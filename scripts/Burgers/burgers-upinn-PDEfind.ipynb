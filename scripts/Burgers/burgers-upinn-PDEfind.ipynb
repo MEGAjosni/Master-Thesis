{
 "cells": [
  {
   "cell_type": "markdown",
   "metadata": {},
   "source": [
    "# Using PDE find for symbolic regression to find equations"
   ]
  },
  {
   "cell_type": "code",
   "execution_count": 10,
   "metadata": {},
   "outputs": [],
   "source": [
    "import torch\n",
    "import sys\n",
    "import numpy as np\n",
    "from sklearn.model_selection import TimeSeriesSplit\n",
    "import pysindy as ps\n",
    "\n",
    "# Set the seed for reproducibility\n",
    "torch.manual_seed(42)\n",
    "\n",
    "# Add the parent directory of the script (i.e., project/) to sys.path\n",
    "sys.path.append('../../utils')\n",
    "from upinn import UPINN, NullWork\n",
    "from architectures import FNN"
   ]
  },
  {
   "cell_type": "code",
   "execution_count": 11,
   "metadata": {},
   "outputs": [],
   "source": [
    "class UPINN(UPINN):\n",
    "    # Inductive bias on F\n",
    "    def F_input(self, X, U):\n",
    "        dudxt = torch.autograd.grad(U, X, torch.ones_like(U), create_graph=True)[0]\n",
    "        u_t = dudxt[:,0:1]\n",
    "        u_x = dudxt[:,1:2]\n",
    "        return torch.cat((U, u_t, u_x), dim=-1)\n",
    "    \n",
    "    # No inductive bias on F\n",
    "    # def F_input(self, X, U):\n",
    "    #     return torch.cat((X, U), dim=-1)"
   ]
  },
  {
   "cell_type": "code",
   "execution_count": 12,
   "metadata": {},
   "outputs": [
    {
     "name": "stdout",
     "output_type": "stream",
     "text": [
      "[Info]: Initializing UPINN model\n"
     ]
    }
   ],
   "source": [
    "hidden = [20] * 8\n",
    "\n",
    "u = FNN(\n",
    "    dims=[2, *hidden, 1],\n",
    "    hidden_act=torch.nn.SiLU(),\n",
    "    output_act=torch.nn.Identity(),\n",
    ")\n",
    "\n",
    "F = FNN(\n",
    "    dims=[3, *hidden, 1],\n",
    "    hidden_act=torch.nn.SiLU(),\n",
    "    output_act=torch.nn.Identity(),\n",
    ")\n",
    "\n",
    "# Instantiate the UPINN\n",
    "upinn = UPINN(u, NullWork(), F)"
   ]
  },
  {
   "cell_type": "markdown",
   "metadata": {},
   "source": [
    "### Load model"
   ]
  },
  {
   "cell_type": "code",
   "execution_count": 13,
   "metadata": {},
   "outputs": [],
   "source": [
    "path = 'models'\n",
    "name = 'burger_baseline_clean'\n",
    "upinn.load(name, path)"
   ]
  },
  {
   "cell_type": "markdown",
   "metadata": {},
   "source": [
    "### PDE find (SINDy)"
   ]
  },
  {
   "cell_type": "code",
   "execution_count": 14,
   "metadata": {},
   "outputs": [],
   "source": [
    "train_shape = (256, 101)\n",
    "\n",
    "t = np.linspace(0, 1, train_shape[1])\n",
    "x = np.linspace(-1, 1, train_shape[0])\n",
    "T, X = np.meshgrid(t, x)\n",
    "\n",
    "T_tensor = torch.tensor(T.flatten(), dtype=torch.float32).reshape(-1, 1)\n",
    "X_tensor = torch.tensor(X.flatten(), dtype=torch.float32).reshape(-1, 1)\n",
    "Z_tensor = torch.cat((T_tensor, X_tensor), dim=-1)\n",
    "Z_tensor.requires_grad_(True)\n",
    "U_tensor = upinn.u(Z_tensor)\n",
    "dUdZ = torch.autograd.grad(U_tensor, Z_tensor, torch.ones_like(U_tensor), create_graph=True)[0]\n",
    "U_t = dUdZ[:, 0:1]\n",
    "U_x = dUdZ[:, 1:2]\n",
    "U_dot_tensor = upinn.F(upinn.F_input(Z_tensor, U_tensor))\n",
    "U_dot = U_dot_tensor.detach().numpy().reshape(*train_shape, 1)\n",
    "\n",
    "U = U_tensor.detach().numpy().reshape(*train_shape, 1)\n"
   ]
  },
  {
   "cell_type": "markdown",
   "metadata": {},
   "source": [
    "### Function library"
   ]
  },
  {
   "cell_type": "code",
   "execution_count": 15,
   "metadata": {},
   "outputs": [],
   "source": [
    "library_functions = [lambda x: x]\n",
    "library_function_names = [lambda x: x]\n",
    "pde_lib = ps.PDELibrary(\n",
    "    library_functions=library_functions,\n",
    "    function_names=library_function_names,\n",
    "    derivative_order=2,\n",
    "    spatial_grid=x,\n",
    "    is_uniform=True,\n",
    ")"
   ]
  },
  {
   "cell_type": "markdown",
   "metadata": {},
   "source": [
    "### Modelfit with cross validation"
   ]
  },
  {
   "cell_type": "code",
   "execution_count": 16,
   "metadata": {},
   "outputs": [
    {
     "name": "stdout",
     "output_type": "stream",
     "text": [
      "(u)' = 0.574 u + -0.304 u_1 + 0.036 u_11 + -0.136 uu_1 + 0.015 uu_11\n"
     ]
    }
   ],
   "source": [
    "# Find the best threshold using 10-fold cross-validation\n",
    "\n",
    "cv_folds = TimeSeriesSplit(n_splits=10)\n",
    "scores = []\n",
    "taus = np.logspace(0, 2, 50)\n",
    "for t_ in taus:\n",
    "    optimizer = ps.SR3(\n",
    "        threshold=t_, max_iter=10000, tol=1e-15, thresholder=\"l1\", normalize_columns=True\n",
    "    )\n",
    "    model = ps.SINDy(feature_library=pde_lib, optimizer=optimizer, feature_names=['u'])\n",
    "    cv_scores = []\n",
    "    for train_idx, test_idx in cv_folds.split(t):\n",
    "        model.fit(x=U[:, train_idx], t=t[train_idx], x_dot=-U_dot[:, train_idx])\n",
    "        cv_scores.append(model.score(x=U[:, test_idx], t=t[test_idx]))\n",
    "    scores.append(np.mean(cv_scores))\n",
    "\n",
    "best_t = taus[np.argmin(scores)]\n",
    "\n",
    "optimizer = ps.SR3(\n",
    "        threshold=best_t, max_iter=10000, tol=1e-15, thresholder='l1', normalize_columns=True\n",
    "    )\n",
    "model = ps.SINDy(feature_library=pde_lib, optimizer=optimizer, feature_names=['u'])\n",
    "model.fit(x=U, t=t, x_dot=U_dot)\n",
    "\n",
    "model.print()"
   ]
  },
  {
   "cell_type": "code",
   "execution_count": 9,
   "metadata": {},
   "outputs": [
    {
     "data": {
      "image/png": "[encoded data removed]",
      "text/plain": [
       "<Figure size 640x480 with 1 Axes>"
      ]
     },
     "metadata": {},
     "output_type": "display_data"
    }
   ],
   "source": [
    "import matplotlib.pyplot as plt\n",
    "plt.figure()\n",
    "plt.plot(taus, scores)\n",
    "plt.xscale('log')\n",
    "plt.xlabel('Threshold')\n",
    "plt.ylabel('Score')\n",
    "plt.title('Threshold selection')\n",
    "plt.show()"
   ]
  },
  {
   "cell_type": "code",
   "execution_count": 89,
   "metadata": {},
   "outputs": [
    {
     "name": "stdout",
     "output_type": "stream",
     "text": [
      "[Info]: Initializing UPINN model\n"
     ]
    }
   ],
   "source": [
    "RAD_upinn = UPINN(u, NullWork(), F)\n",
    "RAD_upinn.load('tanh_burger_upinn', 'models')"
   ]
  }
 ],
 "metadata": {
  "kernelspec": {
   "display_name": "Python 3",
   "language": "python",
   "name": "python3"
  },
  "language_info": {
   "codemirror_mode": {
    "name": "ipython",
    "version": 3
   },
   "file_extension": ".py",
   "mimetype": "text/x-python",
   "name": "python",
   "nbconvert_exporter": "python",
   "pygments_lexer": "ipython3",
   "version": "3.12.9"
  }
 },
 "nbformat": 4,
 "nbformat_minor": 2
}
