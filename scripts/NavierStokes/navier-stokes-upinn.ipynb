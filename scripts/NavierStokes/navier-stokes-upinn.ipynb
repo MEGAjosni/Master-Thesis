{
 "cells": [
  {
   "cell_type": "code",
   "execution_count": null,
   "metadata": {},
   "outputs": [],
   "source": [
    "# Relevant imports\n",
    "import torch\n",
    "import sys\n",
    "import matplotlib.pyplot as plt\n",
    "import numpy as np\n",
    "from kan import KAN\n",
    "\n",
    "# Set the seed for reproducibility\n",
    "torch.manual_seed(42)\n",
    "\n",
    "# Add the parent directory of the script (i.e., project/) to sys.path\n",
    "sys.path.append('../../utils')\n",
    "from upinn import UPINN\n",
    "from architectures import FNN\n",
    "from utils import RAD_sampler, sample_collocation_points\n",
    "from BurgerData import BurgerData"
   ]
  },
  {
   "cell_type": "code",
   "execution_count": 10,
   "metadata": {},
   "outputs": [],
   "source": [
    "# Data points\n",
    "data = NavierStokesData(samplesize=5000)"
   ]
  },
  {
   "cell_type": "code",
   "execution_count": 11,
   "metadata": {},
   "outputs": [],
   "source": [
    "# Collocation points\n",
    "Xc = sample_collocation_points(5000, 3, [1, -2, 0], [8, 2, 20], method='sobol')"
   ]
  },
  {
   "cell_type": "code",
   "execution_count": 12,
   "metadata": {},
   "outputs": [],
   "source": [
    "def compute_grad(outputs, inputs):\n",
    "    return torch.autograd.grad(outputs, inputs, grad_outputs=torch.ones_like(outputs), create_graph=True, retain_graph=True)[0]\n",
    "\n",
    "class NavierStokes(torch.nn.Module):\n",
    "    def __init__(self, lambda1, lambda2):\n",
    "        super(NavierStokes, self).__init__()\n",
    "        self.lambda1 = lambda1\n",
    "        self.lambda2 = lambda2\n",
    "\n",
    "\n",
    "    def forward(self, Z, U):\n",
    "\n",
    "        psi = U[:, 0:1]\n",
    "        p = U[:, 1:2]\n",
    "\n",
    "        U_z = compute_grad(psi, Z)\n",
    "\n",
    "        psi_x = U_z[:, 0:1]\n",
    "        psi_y = U_z[:, 1:2]\n",
    "\n",
    "        u = psi_y\n",
    "        v = -psi_x\n",
    "\n",
    "        u_z = compute_grad(u, Z)\n",
    "        u_x = u_z[:, 0:1]\n",
    "        u_y = u_z[:, 1:2]\n",
    "        u_t = u_z[:, 2:3]\n",
    "\n",
    "        v_z = compute_grad(v, Z)\n",
    "        v_x = v_z[:, 0:1]\n",
    "        v_y = v_z[:, 1:2]\n",
    "        v_t = v_z[:, 2:3]\n",
    "\n",
    "        p_z = compute_grad(p, Z)\n",
    "        p_x = p_z[:, 0:1]\n",
    "        p_y = p_z[:, 1:2]\n",
    "\n",
    "        u_xx = compute_grad(u_x, Z)[:, 0:1]\n",
    "        u_yy = compute_grad(u_y, Z)[:, 1:2]\n",
    "\n",
    "        v_xx = compute_grad(v_x, Z)[:, 0:1]\n",
    "        v_yy = compute_grad(v_y, Z)[:, 1:2]\n",
    "\n",
    "        f = u_t + self.lambda1 * (u * u_x + v * u_y) + p_x - self.lambda2 * (u_xx + u_yy)\n",
    "        g = v_t + self.lambda1 * (u * v_x + v * v_y) + p_y - self.lambda2 * (v_xx + v_yy)\n",
    "\n",
    "        return torch.cat([f, g], dim=1)\n",
    "\n",
    "lambda1 = torch.nn.Parameter(torch.tensor(0.0))\n",
    "lambda2 = torch.nn.Parameter(torch.tensor(0.0))\n",
    "\n",
    "N = NavierStokes(lambda1, lambda2)"
   ]
  },
  {
   "cell_type": "code",
   "execution_count": 13,
   "metadata": {},
   "outputs": [],
   "source": [
    "class NVUPINN(UPINN):\n",
    "    \n",
    "\n",
    "    def data_loss(self):\n",
    "\n",
    "        if self.data_points is not None:\n",
    "            \n",
    "            self.data_points[0].requires_grad_(True)\n",
    "\n",
    "            Ud = self.u(self.data_points[0])\n",
    "\n",
    "            psi_z = compute_grad(Ud[:, 0], self.data_points[0])\n",
    "            psi_y = psi_z[:, 1:2]\n",
    "            psi_x = psi_z[:, 0:1]\n",
    "\n",
    "            data_pred = torch.cat([psi_y, -psi_x, Ud[:, 1:2]], dim=1)\n",
    "            data_loss = torch.mean((data_pred - self.data_points[1])**2)\n",
    "\n",
    "            self.log.setdefault(\"lambda1\", []).append(lambda1.item())\n",
    "            self.log.setdefault(\"lambda2\", []).append(lambda2.item())\n",
    "\n",
    "        else: data_loss = torch.tensor(0.0)\n",
    "\n",
    "        return data_loss\n",
    "    \n"
   ]
  },
  {
   "cell_type": "code",
   "execution_count": 14,
   "metadata": {},
   "outputs": [],
   "source": [
    "hidden = [20] * 8\n",
    "\n",
    "u = FNN(\n",
    "    dims=[3, *hidden, 2],\n",
    "    hidden_act=torch.nn.Tanh(),\n",
    "    output_act=torch.nn.Identity(),\n",
    ")"
   ]
  },
  {
   "cell_type": "code",
   "execution_count": 15,
   "metadata": {},
   "outputs": [
    {
     "name": "stdout",
     "output_type": "stream",
     "text": [
      "[Info]: Initializing PINN model (Residual network F unspecified; Setting F to 0.0)\n"
     ]
    }
   ],
   "source": [
    "model = NVUPINN(u, N, data_points=(data.Zd, data.Ud), collocation_points=Xc)"
   ]
  },
  {
   "cell_type": "code",
   "execution_count": 17,
   "metadata": {},
   "outputs": [],
   "source": [
    "lbfgs = torch.optim.LBFGS(model.parameters(), lr=1e-1)\n",
    "model.optimizer = lbfgs"
   ]
  },
  {
   "cell_type": "code",
   "execution_count": 23,
   "metadata": {},
   "outputs": [
    {
     "name": "stdout",
     "output_type": "stream",
     "text": [
      "[Info]: Training 500 epoch(s) on cuda using LBFGS optimizer.\n"
     ]
    },
    {
     "name": "stderr",
     "output_type": "stream",
     "text": [
      "[CUDA]: 100%|██████████| 500/500 [17:02<00:00,  2.04s/ epoch, lambda1=9.98e-01, lambda2=1.08e-02, bc_loss=0.00e+00, data_loss=2.95e-05, pde_loss=5.02e-05, loss=7.97e-05]\n"
     ]
    }
   ],
   "source": [
    "model.train_loop(500)"
   ]
  },
  {
   "cell_type": "code",
   "execution_count": null,
   "metadata": {},
   "outputs": [
    {
     "name": "stdout",
     "output_type": "stream",
     "text": [
      "[Info]: Successfully saved total model with name nv-pinn-reverse at models\n"
     ]
    }
   ],
   "source": [
    "model.save('nv-pinn-reverse', 'models')"
   ]
  }
 ],
 "metadata": {
  "kernelspec": {
   "display_name": "Python 3",
   "language": "python",
   "name": "python3"
  },
  "language_info": {
   "codemirror_mode": {
    "name": "ipython",
    "version": 3
   },
   "file_extension": ".py",
   "mimetype": "text/x-python",
   "name": "python",
   "nbconvert_exporter": "python",
   "pygments_lexer": "ipython3",
   "version": "3.12.9"
  }
 },
 "nbformat": 4,
 "nbformat_minor": 2
}
