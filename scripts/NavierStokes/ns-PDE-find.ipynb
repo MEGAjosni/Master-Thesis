{
 "cells": [
  {
   "cell_type": "code",
   "execution_count": 2,
   "metadata": {},
   "outputs": [],
   "source": [
    "# Relevant imports\n",
    "import torch\n",
    "import sys\n",
    "import matplotlib.pyplot as plt\n",
    "import numpy as np\n",
    "from kan import KAN\n",
    "import pysindy as ps\n",
    "from sklearn.model_selection import TimeSeriesSplit\n",
    "from tqdm import tqdm\n",
    "\n",
    "# Set the seed for reproducibility\n",
    "torch.manual_seed(42)\n",
    "\n",
    "# Add the parent directory of the script (i.e., project/) to sys.path\n",
    "sys.path.append('../../utils')\n",
    "from upinn import UPINN, NullWork\n",
    "from architectures import FNN, StackedNN\n",
    "from utils import compute_grad\n",
    "from NavierStokesData import NavierStokesData"
   ]
  },
  {
   "cell_type": "code",
   "execution_count": 3,
   "metadata": {},
   "outputs": [],
   "source": [
    "class NavierStokesUPINN(UPINN):\n",
    "    \n",
    "    def F_input(self, Z, U):\n",
    "        \n",
    "        psi = U[:, 0:1]\n",
    "        \n",
    "        U_z = compute_grad(psi, Z)\n",
    "\n",
    "        psi_x = U_z[:, 0:1]\n",
    "        psi_y = U_z[:, 1:2]\n",
    "\n",
    "        u = psi_y\n",
    "        v = -psi_x\n",
    "\n",
    "        return torch.cat([Z, u, v], dim=1)\n"
   ]
  },
  {
   "cell_type": "code",
   "execution_count": 4,
   "metadata": {},
   "outputs": [],
   "source": [
    "hidden = [64] * 8\n",
    "\n",
    "u = FNN(\n",
    "    dims=[3, *hidden, 2],\n",
    "    hidden_act=torch.nn.Tanh(),\n",
    "    output_act=torch.nn.Identity(),\n",
    ")\n",
    "\n",
    "F = FNN(\n",
    "    dims=[5, *hidden, 2],\n",
    "    hidden_act=torch.nn.Tanh(),\n",
    "    output_act=torch.nn.Identity(),\n",
    ")"
   ]
  },
  {
   "cell_type": "code",
   "execution_count": 5,
   "metadata": {},
   "outputs": [],
   "source": [
    "# u1 = FNN(\n",
    "#     dims=[3, *hidden, 1],\n",
    "#     hidden_act=torch.nn.Tanh(),\n",
    "#     output_act=torch.nn.Identity(),\n",
    "# )\n",
    "\n",
    "# u2 = FNN(\n",
    "#     dims=[3, *hidden, 1],\n",
    "#     hidden_act=torch.nn.Tanh(),\n",
    "#     output_act=torch.nn.Identity(),\n",
    "# )\n",
    "\n",
    "# u = StackedNN([u1, u2])\n",
    "\n",
    "# F1 = FNN(\n",
    "#     dims=[5, *hidden, 1],\n",
    "#     hidden_act=torch.nn.Tanh(),\n",
    "#     output_act=torch.nn.Identity(),\n",
    "# )\n",
    "\n",
    "# F2 = FNN(\n",
    "#     dims=[5, *hidden, 1],\n",
    "#     hidden_act=torch.nn.Tanh(),\n",
    "#     output_act=torch.nn.Identity(),\n",
    "# )\n",
    "\n",
    "# F = StackedNN([F1, F2])"
   ]
  },
  {
   "cell_type": "code",
   "execution_count": 6,
   "metadata": {},
   "outputs": [
    {
     "name": "stdout",
     "output_type": "stream",
     "text": [
      "[Info]: Initializing UPINN model\n"
     ]
    }
   ],
   "source": [
    "model = NavierStokesUPINN(u, N=NullWork(), F=F)"
   ]
  },
  {
   "cell_type": "code",
   "execution_count": 7,
   "metadata": {},
   "outputs": [],
   "source": [
    "name = 'ns-upinn-with-pressuredata-FNN64-sa02-RAD-alt-2000-noise001_new'\n",
    "model.load(name, 'models')"
   ]
  },
  {
   "cell_type": "markdown",
   "metadata": {},
   "source": [
    "### Sample data from UPINN"
   ]
  },
  {
   "cell_type": "code",
   "execution_count": 8,
   "metadata": {},
   "outputs": [],
   "source": [
    "x = torch.linspace(2, 8, 50)\n",
    "y = torch.linspace(-2, 2, 50)\n",
    "t = torch.linspace(0, 20, 50)\n",
    "domain_shape = (len(x), len(y), len(t))\n",
    "\n",
    "X, Y, T = torch.meshgrid(x, y, t)\n",
    "\n",
    "Z = torch.stack([X, Y, T], dim=3).reshape(-1, 3)\n",
    "Z.requires_grad_(True)\n",
    "\n",
    "U_pred = model.u(Z)\n",
    "F_pred = model.F(model.F_input(Z, U_pred))\n",
    "\n",
    "Psi = U_pred[:, 0:1]\n",
    "Psi_Z = compute_grad(Psi, Z)\n",
    "Psi_X = Psi_Z[:, 0:1]\n",
    "Psi_Y = Psi_Z[:, 1:2]\n",
    "\n",
    "U_pred = Psi_Y.detach().numpy().reshape(*domain_shape)\n",
    "V_pred = -Psi_X.detach().numpy().reshape(*domain_shape)\n",
    "\n",
    "u = np.stack([U_pred, V_pred], axis=3)\n",
    "\n",
    "u_dot = F_pred.reshape(*domain_shape, 2).detach().numpy()"
   ]
  },
  {
   "cell_type": "markdown",
   "metadata": {},
   "source": [
    "### Define function library"
   ]
  },
  {
   "cell_type": "code",
   "execution_count": 9,
   "metadata": {},
   "outputs": [],
   "source": [
    "X, Y = np.meshgrid(x, y)\n",
    "spatial_grid = np.asarray([X, Y]).T\n",
    "t = t.detach().numpy()\n",
    "\n",
    "library_functions = [\n",
    "    lambda x: x,\n",
    "    # lambda x: x * x * x,\n",
    "    # lambda x, y: x * y * y,\n",
    "    # lambda x, y: x * x * y,\n",
    "]\n",
    "library_function_names = [\n",
    "    lambda x: x,\n",
    "    # lambda x: x + x + x,\n",
    "    # lambda x, y: x + y + y,\n",
    "    # lambda x, y: x + x + y,\n",
    "]\n",
    "pde_lib = ps.PDELibrary(\n",
    "    library_functions=library_functions,\n",
    "    function_names=library_function_names,\n",
    "    derivative_order=2,\n",
    "    spatial_grid=spatial_grid,\n",
    "    # include_bias=True,\n",
    "    is_uniform=True,\n",
    "    include_interaction=True,\n",
    "    # periodic=True\n",
    ")"
   ]
  },
  {
   "cell_type": "code",
   "execution_count": 303,
   "metadata": {},
   "outputs": [],
   "source": [
    "from sklearn.metrics import explained_variance_score, mean_squared_error"
   ]
  },
  {
   "cell_type": "code",
   "execution_count": 304,
   "metadata": {},
   "outputs": [],
   "source": [
    "# train_idx = np.arange(0, 0.8*len(t), dtype=int)\n",
    "# test_idx = np.arange(0.8*len(t), len(t), dtype=int)\n",
    "\n",
    "\n",
    "# scores = []\n",
    "# taus = np.linspace(0.1, 2, 20)\n",
    "\n",
    "# for tau in taus:\n",
    "#     optimizer = ps.SR3(\n",
    "#         threshold=tau,\n",
    "#         max_iter=1000,\n",
    "#         thresholder=\"l1\",\n",
    "#         normalize_columns=True,\n",
    "#     )\n",
    "#     model_sindy = ps.SINDy(feature_library=pde_lib, optimizer=optimizer, feature_names=['u', 'v'])\n",
    "#     model_sindy.fit(x=u[:,:,train_idx,:], t=t[train_idx], x_dot=u_dot[:,:,train_idx,:])\n",
    "#     if model_sindy.complexity == 0:\n",
    "#         break\n",
    "#     scores.append(model_sindy.score(x=u[:,:,test_idx,:], t=t[test_idx]))\n",
    "#     print(f'Threshold: {tau}, Score: {scores[-1]}')"
   ]
  },
  {
   "cell_type": "code",
   "execution_count": 11,
   "metadata": {},
   "outputs": [
    {
     "name": "stderr",
     "output_type": "stream",
     "text": [
      "5it [00:34,  6.90s/it]\n"
     ]
    },
    {
     "name": "stdout",
     "output_type": "stream",
     "text": [
      "Threshold: 0.1,\n",
      " Mean Score: -0.009764576160193305\n"
     ]
    },
    {
     "name": "stderr",
     "output_type": "stream",
     "text": [
      "5it [00:18,  3.78s/it]\n"
     ]
    },
    {
     "name": "stdout",
     "output_type": "stream",
     "text": [
      "Threshold: 0.2,\n",
      " Mean Score: -0.008607790960123828\n"
     ]
    },
    {
     "name": "stderr",
     "output_type": "stream",
     "text": [
      "5it [00:12,  2.47s/it]\n"
     ]
    },
    {
     "name": "stdout",
     "output_type": "stream",
     "text": [
      "Threshold: 0.3,\n",
      " Mean Score: -0.007496803380121308\n"
     ]
    },
    {
     "name": "stderr",
     "output_type": "stream",
     "text": [
      "5it [00:08,  1.77s/it]\n"
     ]
    },
    {
     "name": "stdout",
     "output_type": "stream",
     "text": [
      "Threshold: 0.4,\n",
      " Mean Score: -0.006369487220263692\n"
     ]
    },
    {
     "name": "stderr",
     "output_type": "stream",
     "text": [
      "5it [00:08,  1.70s/it]\n"
     ]
    },
    {
     "name": "stdout",
     "output_type": "stream",
     "text": [
      "Threshold: 0.5,\n",
      " Mean Score: -0.006345940311919729\n"
     ]
    },
    {
     "name": "stderr",
     "output_type": "stream",
     "text": [
      "5it [00:06,  1.36s/it]\n"
     ]
    },
    {
     "name": "stdout",
     "output_type": "stream",
     "text": [
      "Threshold: 0.6,\n",
      " Mean Score: -0.006417618321764041\n"
     ]
    },
    {
     "name": "stderr",
     "output_type": "stream",
     "text": [
      "5it [00:06,  1.23s/it]\n"
     ]
    },
    {
     "name": "stdout",
     "output_type": "stream",
     "text": [
      "Threshold: 0.7,\n",
      " Mean Score: -0.005961820481448976\n"
     ]
    },
    {
     "name": "stderr",
     "output_type": "stream",
     "text": [
      "5it [00:05,  1.07s/it]\n"
     ]
    },
    {
     "name": "stdout",
     "output_type": "stream",
     "text": [
      "Threshold: 0.7999999999999999,\n",
      " Mean Score: -0.005915983713976303\n"
     ]
    },
    {
     "name": "stderr",
     "output_type": "stream",
     "text": [
      "5it [00:04,  1.01it/s]\n"
     ]
    },
    {
     "name": "stdout",
     "output_type": "stream",
     "text": [
      "Threshold: 0.8999999999999999,\n",
      " Mean Score: -0.005389187264306328\n"
     ]
    },
    {
     "name": "stderr",
     "output_type": "stream",
     "text": [
      "5it [00:04,  1.07it/s]\n"
     ]
    },
    {
     "name": "stdout",
     "output_type": "stream",
     "text": [
      "Threshold: 0.9999999999999999,\n",
      " Mean Score: -0.005389187264306328\n"
     ]
    },
    {
     "name": "stderr",
     "output_type": "stream",
     "text": [
      "5it [00:04,  1.10it/s]\n"
     ]
    },
    {
     "name": "stdout",
     "output_type": "stream",
     "text": [
      "Threshold: 1.0999999999999999,\n",
      " Mean Score: -0.004879121010820109\n"
     ]
    },
    {
     "name": "stderr",
     "output_type": "stream",
     "text": [
      "5it [00:04,  1.02it/s]\n"
     ]
    },
    {
     "name": "stdout",
     "output_type": "stream",
     "text": [
      "Threshold: 1.2,\n",
      " Mean Score: -0.004879121010820109\n"
     ]
    },
    {
     "name": "stderr",
     "output_type": "stream",
     "text": [
      "5it [00:03,  1.26it/s]\n"
     ]
    },
    {
     "name": "stdout",
     "output_type": "stream",
     "text": [
      "Threshold: 1.3,\n",
      " Mean Score: -0.004444789063156906\n"
     ]
    },
    {
     "name": "stderr",
     "output_type": "stream",
     "text": [
      "5it [00:03,  1.65it/s]\n"
     ]
    },
    {
     "name": "stdout",
     "output_type": "stream",
     "text": [
      "Threshold: 1.4,\n",
      " Mean Score: -0.004022577450721543\n"
     ]
    },
    {
     "name": "stderr",
     "output_type": "stream",
     "text": [
      "5it [00:03,  1.66it/s]\n"
     ]
    },
    {
     "name": "stdout",
     "output_type": "stream",
     "text": [
      "Threshold: 1.5,\n",
      " Mean Score: -0.004022577450721543\n"
     ]
    },
    {
     "name": "stderr",
     "output_type": "stream",
     "text": [
      "5it [00:02,  1.93it/s]\n"
     ]
    },
    {
     "name": "stdout",
     "output_type": "stream",
     "text": [
      "Threshold: 1.5999999999999999,\n",
      " Mean Score: -0.004022577450721543\n"
     ]
    },
    {
     "name": "stderr",
     "output_type": "stream",
     "text": [
      "5it [00:02,  1.90it/s]\n"
     ]
    },
    {
     "name": "stdout",
     "output_type": "stream",
     "text": [
      "Threshold: 1.7,\n",
      " Mean Score: -0.004022577450721543\n"
     ]
    },
    {
     "name": "stderr",
     "output_type": "stream",
     "text": [
      "5it [00:02,  1.88it/s]\n"
     ]
    },
    {
     "name": "stdout",
     "output_type": "stream",
     "text": [
      "Threshold: 1.8,\n",
      " Mean Score: -0.004022577450721543\n"
     ]
    },
    {
     "name": "stderr",
     "output_type": "stream",
     "text": [
      "5it [00:02,  1.87it/s]\n"
     ]
    },
    {
     "name": "stdout",
     "output_type": "stream",
     "text": [
      "Threshold: 1.9,\n",
      " Mean Score: -0.004022577450721543\n"
     ]
    },
    {
     "name": "stderr",
     "output_type": "stream",
     "text": [
      "5it [00:02,  1.90it/s]"
     ]
    },
    {
     "name": "stdout",
     "output_type": "stream",
     "text": [
      "Threshold: 2.0,\n",
      " Mean Score: -0.004022577450721543\n"
     ]
    },
    {
     "name": "stderr",
     "output_type": "stream",
     "text": [
      "\n"
     ]
    }
   ],
   "source": [
    "cv_folds = TimeSeriesSplit(n_splits=5)\n",
    "scores = []\n",
    "min_score = []\n",
    "max_score = []\n",
    "taus = np.linspace(0.1, 2, 20)\n",
    "for t_ in taus:\n",
    "    optimizer = ps.SR3(\n",
    "        threshold=t_,\n",
    "        max_iter=100000,\n",
    "        thresholder=\"l1\",\n",
    "        normalize_columns=True,\n",
    "    )\n",
    "    model_sindy = ps.SINDy(feature_library=pde_lib, optimizer=optimizer, feature_names=['u', 'v'])\n",
    "    cv_scores = []\n",
    "    for train_idx, test_idx in tqdm(cv_folds.split(t)):\n",
    "        model_sindy.fit(x=u[:, :, train_idx, :], t=t[train_idx], x_dot=u_dot[:, :, train_idx, :])\n",
    "        cv_scores.append(model_sindy.score(x=u[:, :, test_idx, :], t=t[test_idx]))\n",
    "    scores.append(np.mean(cv_scores))\n",
    "    min_score.append(np.min(cv_scores))\n",
    "    max_score.append(np.max(cv_scores))\n",
    "    print(f'Threshold: {t_},\\n Mean Score: {scores[-1]}')\n",
    "    # print(f'Min Score: {min_score[-1]}')\n",
    "    # print(f'Max Score: {max_score[-1]}')\n",
    "\n",
    "best_tau = taus[np.argmin(scores)]"
   ]
  },
  {
   "cell_type": "code",
   "execution_count": 12,
   "metadata": {},
   "outputs": [
    {
     "data": {
      "text/plain": [
       "[<matplotlib.lines.Line2D at 0x27aeee14830>]"
      ]
     },
     "execution_count": 12,
     "metadata": {},
     "output_type": "execute_result"
    },
    {
     "data": {
      "image/png": "[encoded data removed]",
      "text/plain": [
       "<Figure size 640x480 with 1 Axes>"
      ]
     },
     "metadata": {},
     "output_type": "display_data"
    }
   ],
   "source": [
    "plt.plot(taus, scores)"
   ]
  },
  {
   "cell_type": "code",
   "execution_count": 307,
   "metadata": {},
   "outputs": [
    {
     "name": "stdout",
     "output_type": "stream",
     "text": [
      "Best tau: 0.8999999999999999\n"
     ]
    }
   ],
   "source": [
    "best_tau = taus[np.argmin(scores)]\n",
    "print(f'Best tau: {best_tau}')"
   ]
  },
  {
   "cell_type": "code",
   "execution_count": 308,
   "metadata": {},
   "outputs": [
    {
     "name": "stdout",
     "output_type": "stream",
     "text": [
      " Iteration ... |y - Xw|^2 ...  |w-u|^2/v ...       R(u) ... Total Error: |y-Xw|^2 + |w-u|^2/v + R(u)\n",
      "         0 ... 3.0622e+01 ... 3.4056e+01 ... 3.2495e+02 ... 3.8963e+02\n",
      "(u)' = -0.010 u_22\n",
      "(v)' = -0.013 v_11\n"
     ]
    }
   ],
   "source": [
    "optimizer = ps.SR3(\n",
    "        threshold=best_tau,\n",
    "        thresholder=\"l1\",\n",
    "        max_iter=100000,\n",
    "        normalize_columns=True,\n",
    "        verbose=True,\n",
    "    )\n",
    "model_sindy = ps.SINDy(feature_library=pde_lib, optimizer=optimizer, feature_names=['u', 'v'])\n",
    "model_sindy.fit(u, x_dot=u_dot, t=t)\n",
    "model_sindy.print()"
   ]
  },
  {
   "cell_type": "code",
   "execution_count": null,
   "metadata": {},
   "outputs": [],
   "source": []
  }
 ],
 "metadata": {
  "kernelspec": {
   "display_name": "Python 3",
   "language": "python",
   "name": "python3"
  },
  "language_info": {
   "codemirror_mode": {
    "name": "ipython",
    "version": 3
   },
   "file_extension": ".py",
   "mimetype": "text/x-python",
   "name": "python",
   "nbconvert_exporter": "python",
   "pygments_lexer": "ipython3",
   "version": "3.12.9"
  }
 },
 "nbformat": 4,
 "nbformat_minor": 2
}
