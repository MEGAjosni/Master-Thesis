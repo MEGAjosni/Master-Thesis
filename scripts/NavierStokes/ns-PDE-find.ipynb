{
 "cells": [
  {
   "cell_type": "code",
   "execution_count": 11,
   "metadata": {},
   "outputs": [],
   "source": [
    "# Relevant imports\n",
    "import torch\n",
    "import sys\n",
    "import matplotlib.pyplot as plt\n",
    "import numpy as np\n",
    "from kan import KAN\n",
    "import pysindy as ps\n",
    "from sklearn.model_selection import TimeSeriesSplit\n",
    "from tqdm import tqdm\n",
    "\n",
    "# Set the seed for reproducibility\n",
    "torch.manual_seed(42)\n",
    "\n",
    "# Add the parent directory of the script (i.e., project/) to sys.path\n",
    "sys.path.append('../../utils')\n",
    "from upinn import UPINN, NullWork\n",
    "from architectures import FNN, StackedNN\n",
    "from utils import compute_grad\n",
    "from NavierStokesData import NavierStokesData"
   ]
  },
  {
   "cell_type": "code",
   "execution_count": 12,
   "metadata": {},
   "outputs": [],
   "source": [
    "class NavierStokesUPINN(UPINN):\n",
    "    \n",
    "    def F_input(self, Z, U):\n",
    "        \n",
    "        psi = U[:, 0:1]\n",
    "        \n",
    "        U_z = compute_grad(psi, Z)\n",
    "\n",
    "        psi_x = U_z[:, 0:1]\n",
    "        psi_y = U_z[:, 1:2]\n",
    "\n",
    "        u = psi_y\n",
    "        v = -psi_x\n",
    "\n",
    "        return torch.cat([Z, u, v], dim=1)\n"
   ]
  },
  {
   "cell_type": "code",
   "execution_count": 13,
   "metadata": {},
   "outputs": [],
   "source": [
    "hidden = [64] * 8\n",
    "\n",
    "u = FNN(\n",
    "    dims=[3, *hidden, 2],\n",
    "    hidden_act=torch.nn.Tanh(),\n",
    "    output_act=torch.nn.Identity(),\n",
    ")\n",
    "\n",
    "F = FNN(\n",
    "    dims=[5, *hidden, 2],\n",
    "    hidden_act=torch.nn.Tanh(),\n",
    "    output_act=torch.nn.Identity(),\n",
    ")"
   ]
  },
  {
   "cell_type": "code",
   "execution_count": 14,
   "metadata": {},
   "outputs": [],
   "source": [
    "# u1 = FNN(\n",
    "#     dims=[3, *hidden, 1],\n",
    "#     hidden_act=torch.nn.Tanh(),\n",
    "#     output_act=torch.nn.Identity(),\n",
    "# )\n",
    "\n",
    "# u2 = FNN(\n",
    "#     dims=[3, *hidden, 1],\n",
    "#     hidden_act=torch.nn.Tanh(),\n",
    "#     output_act=torch.nn.Identity(),\n",
    "# )\n",
    "\n",
    "# u = StackedNN([u1, u2])\n",
    "\n",
    "# F1 = FNN(\n",
    "#     dims=[5, *hidden, 1],\n",
    "#     hidden_act=torch.nn.Tanh(),\n",
    "#     output_act=torch.nn.Identity(),\n",
    "# )\n",
    "\n",
    "# F2 = FNN(\n",
    "#     dims=[5, *hidden, 1],\n",
    "#     hidden_act=torch.nn.Tanh(),\n",
    "#     output_act=torch.nn.Identity(),\n",
    "# )\n",
    "\n",
    "# F = StackedNN([F1, F2])"
   ]
  },
  {
   "cell_type": "code",
   "execution_count": 15,
   "metadata": {},
   "outputs": [
    {
     "name": "stdout",
     "output_type": "stream",
     "text": [
      "[Info]: Initializing UPINN model\n"
     ]
    }
   ],
   "source": [
    "model = NavierStokesUPINN(u, N=NullWork(), F=F)"
   ]
  },
  {
   "cell_type": "code",
   "execution_count": 16,
   "metadata": {},
   "outputs": [
    {
     "name": "stdout",
     "output_type": "stream",
     "text": [
      "[Error]: Model not found.\n"
     ]
    }
   ],
   "source": [
    "name = 'ns-upinn-with-pressuredata-FNN64-sa02-RAD-alt-2000_new'\n",
    "model.load(name, 'models')"
   ]
  },
  {
   "cell_type": "markdown",
   "metadata": {},
   "source": [
    "### Sample data from UPINN"
   ]
  },
  {
   "cell_type": "code",
   "execution_count": 17,
   "metadata": {},
   "outputs": [],
   "source": [
    "x = torch.linspace(2, 8, 50)\n",
    "y = torch.linspace(-2, 2, 50)\n",
    "t = torch.linspace(0, 20, 50)\n",
    "domain_shape = (len(x), len(y), len(t))\n",
    "\n",
    "X, Y, T = torch.meshgrid(x, y, t)\n",
    "\n",
    "Z = torch.stack([X, Y, T], dim=3).reshape(-1, 3)\n",
    "Z.requires_grad_(True)\n",
    "\n",
    "U_pred = model.u(Z)\n",
    "F_pred = model.F(model.F_input(Z, U_pred))\n",
    "\n",
    "Psi = U_pred[:, 0:1]\n",
    "Psi_Z = compute_grad(Psi, Z)\n",
    "Psi_X = Psi_Z[:, 0:1]\n",
    "Psi_Y = Psi_Z[:, 1:2]\n",
    "\n",
    "U_pred = Psi_Y.detach().numpy().reshape(*domain_shape)\n",
    "V_pred = -Psi_X.detach().numpy().reshape(*domain_shape)\n",
    "\n",
    "u = np.stack([U_pred, V_pred], axis=3)\n",
    "\n",
    "u_dot = F_pred.reshape(*domain_shape, 2).detach().numpy()"
   ]
  },
  {
   "cell_type": "markdown",
   "metadata": {},
   "source": [
    "### Define function library"
   ]
  },
  {
   "cell_type": "code",
   "execution_count": 18,
   "metadata": {},
   "outputs": [],
   "source": [
    "X, Y = np.meshgrid(x, y)\n",
    "spatial_grid = np.asarray([X, Y]).T\n",
    "t = t.detach().numpy()\n",
    "\n",
    "library_functions = [\n",
    "    lambda x: x,\n",
    "]\n",
    "library_function_names = [\n",
    "    lambda x: x,\n",
    "]\n",
    "pde_lib = ps.PDELibrary(\n",
    "    library_functions=library_functions,\n",
    "    function_names=library_function_names,\n",
    "    derivative_order=2,\n",
    "    spatial_grid=spatial_grid,\n",
    "    # include_bias=True,\n",
    "    is_uniform=True,\n",
    "    include_interaction=True,\n",
    "    # periodic=True\n",
    ")"
   ]
  },
  {
   "cell_type": "code",
   "execution_count": 10,
   "metadata": {},
   "outputs": [
    {
     "name": "stderr",
     "output_type": "stream",
     "text": [
      "5it [00:27,  5.46s/it]\n"
     ]
    },
    {
     "name": "stdout",
     "output_type": "stream",
     "text": [
      "Threshold: 0.1,\n",
      " Mean Score: -0.009764576160193305\n"
     ]
    },
    {
     "name": "stderr",
     "output_type": "stream",
     "text": [
      "5it [00:15,  3.07s/it]\n"
     ]
    },
    {
     "name": "stdout",
     "output_type": "stream",
     "text": [
      "Threshold: 0.2,\n",
      " Mean Score: -0.008607790960123828\n"
     ]
    },
    {
     "name": "stderr",
     "output_type": "stream",
     "text": [
      "4it [00:08,  2.00s/it]\n"
     ]
    },
    {
     "ename": "KeyboardInterrupt",
     "evalue": "",
     "output_type": "error",
     "traceback": [
      "\u001b[1;31m---------------------------------------------------------------------------\u001b[0m",
      "\u001b[1;31mKeyboardInterrupt\u001b[0m                         Traceback (most recent call last)",
      "Cell \u001b[1;32mIn[10], line 16\u001b[0m\n\u001b[0;32m     14\u001b[0m cv_scores \u001b[38;5;241m=\u001b[39m []\n\u001b[0;32m     15\u001b[0m \u001b[38;5;28;01mfor\u001b[39;00m train_idx, test_idx \u001b[38;5;129;01min\u001b[39;00m tqdm(cv_folds\u001b[38;5;241m.\u001b[39msplit(t)):\n\u001b[1;32m---> 16\u001b[0m     \u001b[43mmodel_sindy\u001b[49m\u001b[38;5;241;43m.\u001b[39;49m\u001b[43mfit\u001b[49m\u001b[43m(\u001b[49m\u001b[43mx\u001b[49m\u001b[38;5;241;43m=\u001b[39;49m\u001b[43mu\u001b[49m\u001b[43m[\u001b[49m\u001b[43m:\u001b[49m\u001b[43m,\u001b[49m\u001b[43m \u001b[49m\u001b[43m:\u001b[49m\u001b[43m,\u001b[49m\u001b[43m \u001b[49m\u001b[43mtrain_idx\u001b[49m\u001b[43m,\u001b[49m\u001b[43m \u001b[49m\u001b[43m:\u001b[49m\u001b[43m]\u001b[49m\u001b[43m,\u001b[49m\u001b[43m \u001b[49m\u001b[43mt\u001b[49m\u001b[38;5;241;43m=\u001b[39;49m\u001b[43mt\u001b[49m\u001b[43m[\u001b[49m\u001b[43mtrain_idx\u001b[49m\u001b[43m]\u001b[49m\u001b[43m,\u001b[49m\u001b[43m \u001b[49m\u001b[43mx_dot\u001b[49m\u001b[38;5;241;43m=\u001b[39;49m\u001b[43mu_dot\u001b[49m\u001b[43m[\u001b[49m\u001b[43m:\u001b[49m\u001b[43m,\u001b[49m\u001b[43m \u001b[49m\u001b[43m:\u001b[49m\u001b[43m,\u001b[49m\u001b[43m \u001b[49m\u001b[43mtrain_idx\u001b[49m\u001b[43m,\u001b[49m\u001b[43m \u001b[49m\u001b[43m:\u001b[49m\u001b[43m]\u001b[49m\u001b[43m)\u001b[49m\n\u001b[0;32m     17\u001b[0m     cv_scores\u001b[38;5;241m.\u001b[39mappend(model_sindy\u001b[38;5;241m.\u001b[39mscore(x\u001b[38;5;241m=\u001b[39mu[:, :, test_idx, :], t\u001b[38;5;241m=\u001b[39mt[test_idx]))\n\u001b[0;32m     18\u001b[0m scores\u001b[38;5;241m.\u001b[39mappend(np\u001b[38;5;241m.\u001b[39mmean(cv_scores))\n",
      "File \u001b[1;32m~\\AppData\\Local\\Packages\\PythonSoftwareFoundation.Python.3.12_qbz5n2kfra8p0\\LocalCache\\local-packages\\Python312\\site-packages\\pysindy\\pysindy.py:414\u001b[0m, in \u001b[0;36mSINDy.fit\u001b[1;34m(self, x, t, x_dot, u, multiple_trajectories, unbias, quiet, ensemble, library_ensemble, replace, n_candidates_to_drop, n_subset, n_models, ensemble_aggregator)\u001b[0m\n\u001b[0;32m    412\u001b[0m     warnings\u001b[38;5;241m.\u001b[39mfilterwarnings(action, category\u001b[38;5;241m=\u001b[39mLinAlgWarning)\n\u001b[0;32m    413\u001b[0m     warnings\u001b[38;5;241m.\u001b[39mfilterwarnings(action, category\u001b[38;5;241m=\u001b[39m\u001b[38;5;167;01mUserWarning\u001b[39;00m)\n\u001b[1;32m--> 414\u001b[0m     \u001b[38;5;28;43mself\u001b[39;49m\u001b[38;5;241;43m.\u001b[39;49m\u001b[43mmodel\u001b[49m\u001b[38;5;241;43m.\u001b[39;49m\u001b[43mfit\u001b[49m\u001b[43m(\u001b[49m\u001b[43mx\u001b[49m\u001b[43m,\u001b[49m\u001b[43m \u001b[49m\u001b[43mx_dot\u001b[49m\u001b[43m)\u001b[49m\n\u001b[0;32m    416\u001b[0m \u001b[38;5;66;03m# New version of sklearn changes attribute name\u001b[39;00m\n\u001b[0;32m    417\u001b[0m \u001b[38;5;28;01mif\u001b[39;00m \u001b[38;5;28mfloat\u001b[39m(__version__[:\u001b[38;5;241m3\u001b[39m]) \u001b[38;5;241m>\u001b[39m\u001b[38;5;241m=\u001b[39m \u001b[38;5;241m1.0\u001b[39m:\n",
      "File \u001b[1;32m~\\AppData\\Local\\Packages\\PythonSoftwareFoundation.Python.3.12_qbz5n2kfra8p0\\LocalCache\\local-packages\\Python312\\site-packages\\sklearn\\base.py:1473\u001b[0m, in \u001b[0;36m_fit_context.<locals>.decorator.<locals>.wrapper\u001b[1;34m(estimator, *args, **kwargs)\u001b[0m\n\u001b[0;32m   1466\u001b[0m     estimator\u001b[38;5;241m.\u001b[39m_validate_params()\n\u001b[0;32m   1468\u001b[0m \u001b[38;5;28;01mwith\u001b[39;00m config_context(\n\u001b[0;32m   1469\u001b[0m     skip_parameter_validation\u001b[38;5;241m=\u001b[39m(\n\u001b[0;32m   1470\u001b[0m         prefer_skip_nested_validation \u001b[38;5;129;01mor\u001b[39;00m global_skip_validation\n\u001b[0;32m   1471\u001b[0m     )\n\u001b[0;32m   1472\u001b[0m ):\n\u001b[1;32m-> 1473\u001b[0m     \u001b[38;5;28;01mreturn\u001b[39;00m \u001b[43mfit_method\u001b[49m\u001b[43m(\u001b[49m\u001b[43mestimator\u001b[49m\u001b[43m,\u001b[49m\u001b[43m \u001b[49m\u001b[38;5;241;43m*\u001b[39;49m\u001b[43margs\u001b[49m\u001b[43m,\u001b[49m\u001b[43m \u001b[49m\u001b[38;5;241;43m*\u001b[39;49m\u001b[38;5;241;43m*\u001b[39;49m\u001b[43mkwargs\u001b[49m\u001b[43m)\u001b[49m\n",
      "File \u001b[1;32m~\\AppData\\Local\\Packages\\PythonSoftwareFoundation.Python.3.12_qbz5n2kfra8p0\\LocalCache\\local-packages\\Python312\\site-packages\\sklearn\\pipeline.py:473\u001b[0m, in \u001b[0;36mPipeline.fit\u001b[1;34m(self, X, y, **params)\u001b[0m\n\u001b[0;32m    471\u001b[0m     \u001b[38;5;28;01mif\u001b[39;00m \u001b[38;5;28mself\u001b[39m\u001b[38;5;241m.\u001b[39m_final_estimator \u001b[38;5;241m!=\u001b[39m \u001b[38;5;124m\"\u001b[39m\u001b[38;5;124mpassthrough\u001b[39m\u001b[38;5;124m\"\u001b[39m:\n\u001b[0;32m    472\u001b[0m         last_step_params \u001b[38;5;241m=\u001b[39m routed_params[\u001b[38;5;28mself\u001b[39m\u001b[38;5;241m.\u001b[39msteps[\u001b[38;5;241m-\u001b[39m\u001b[38;5;241m1\u001b[39m][\u001b[38;5;241m0\u001b[39m]]\n\u001b[1;32m--> 473\u001b[0m         \u001b[38;5;28;43mself\u001b[39;49m\u001b[38;5;241;43m.\u001b[39;49m\u001b[43m_final_estimator\u001b[49m\u001b[38;5;241;43m.\u001b[39;49m\u001b[43mfit\u001b[49m\u001b[43m(\u001b[49m\u001b[43mXt\u001b[49m\u001b[43m,\u001b[49m\u001b[43m \u001b[49m\u001b[43my\u001b[49m\u001b[43m,\u001b[49m\u001b[43m \u001b[49m\u001b[38;5;241;43m*\u001b[39;49m\u001b[38;5;241;43m*\u001b[39;49m\u001b[43mlast_step_params\u001b[49m\u001b[43m[\u001b[49m\u001b[38;5;124;43m\"\u001b[39;49m\u001b[38;5;124;43mfit\u001b[39;49m\u001b[38;5;124;43m\"\u001b[39;49m\u001b[43m]\u001b[49m\u001b[43m)\u001b[49m\n\u001b[0;32m    475\u001b[0m \u001b[38;5;28;01mreturn\u001b[39;00m \u001b[38;5;28mself\u001b[39m\n",
      "File \u001b[1;32m~\\AppData\\Local\\Packages\\PythonSoftwareFoundation.Python.3.12_qbz5n2kfra8p0\\LocalCache\\local-packages\\Python312\\site-packages\\pysindy\\optimizers\\sindy_optimizer.py:60\u001b[0m, in \u001b[0;36mSINDyOptimizer.fit\u001b[1;34m(self, x, y)\u001b[0m\n\u001b[0;32m     53\u001b[0m \u001b[38;5;28;01mdef\u001b[39;00m \u001b[38;5;21mfit\u001b[39m(\u001b[38;5;28mself\u001b[39m, x, y):\n\u001b[0;32m     55\u001b[0m     x, y \u001b[38;5;241m=\u001b[39m drop_nan_samples(\n\u001b[0;32m     56\u001b[0m         AxesArray(x, {\u001b[38;5;124m\"\u001b[39m\u001b[38;5;124max_sample\u001b[39m\u001b[38;5;124m\"\u001b[39m: \u001b[38;5;241m0\u001b[39m, \u001b[38;5;124m\"\u001b[39m\u001b[38;5;124max_coord\u001b[39m\u001b[38;5;124m\"\u001b[39m: \u001b[38;5;241m1\u001b[39m}),\n\u001b[0;32m     57\u001b[0m         AxesArray(y, {\u001b[38;5;124m\"\u001b[39m\u001b[38;5;124max_sample\u001b[39m\u001b[38;5;124m\"\u001b[39m: \u001b[38;5;241m0\u001b[39m, \u001b[38;5;124m\"\u001b[39m\u001b[38;5;124max_coord\u001b[39m\u001b[38;5;124m\"\u001b[39m: \u001b[38;5;241m1\u001b[39m}),\n\u001b[0;32m     58\u001b[0m     )\n\u001b[1;32m---> 60\u001b[0m     \u001b[38;5;28;43mself\u001b[39;49m\u001b[38;5;241;43m.\u001b[39;49m\u001b[43moptimizer\u001b[49m\u001b[38;5;241;43m.\u001b[39;49m\u001b[43mfit\u001b[49m\u001b[43m(\u001b[49m\u001b[43mx\u001b[49m\u001b[43m,\u001b[49m\u001b[43m \u001b[49m\u001b[43my\u001b[49m\u001b[43m)\u001b[49m\n\u001b[0;32m     61\u001b[0m     \u001b[38;5;28;01mif\u001b[39;00m \u001b[38;5;129;01mnot\u001b[39;00m \u001b[38;5;28mhasattr\u001b[39m(\u001b[38;5;28mself\u001b[39m\u001b[38;5;241m.\u001b[39moptimizer, \u001b[38;5;124m\"\u001b[39m\u001b[38;5;124mcoef_\u001b[39m\u001b[38;5;124m\"\u001b[39m):\n\u001b[0;32m     62\u001b[0m         \u001b[38;5;28;01mraise\u001b[39;00m \u001b[38;5;167;01mAttributeError\u001b[39;00m(\u001b[38;5;124m\"\u001b[39m\u001b[38;5;124moptimizer has no attribute coef_\u001b[39m\u001b[38;5;124m\"\u001b[39m)\n",
      "File \u001b[1;32m~\\AppData\\Local\\Packages\\PythonSoftwareFoundation.Python.3.12_qbz5n2kfra8p0\\LocalCache\\local-packages\\Python312\\site-packages\\pysindy\\optimizers\\base.py:178\u001b[0m, in \u001b[0;36mBaseOptimizer.fit\u001b[1;34m(self, x_, y, sample_weight, **reduce_kws)\u001b[0m\n\u001b[0;32m    174\u001b[0m \u001b[38;5;28mself\u001b[39m\u001b[38;5;241m.\u001b[39mhistory_ \u001b[38;5;241m=\u001b[39m [\u001b[38;5;28mself\u001b[39m\u001b[38;5;241m.\u001b[39mcoef_]\n\u001b[0;32m    176\u001b[0m x_normed \u001b[38;5;241m=\u001b[39m np\u001b[38;5;241m.\u001b[39masarray(x_normed)\n\u001b[1;32m--> 178\u001b[0m \u001b[38;5;28;43mself\u001b[39;49m\u001b[38;5;241;43m.\u001b[39;49m\u001b[43m_reduce\u001b[49m\u001b[43m(\u001b[49m\u001b[43mx_normed\u001b[49m\u001b[43m,\u001b[49m\u001b[43m \u001b[49m\u001b[43my\u001b[49m\u001b[43m,\u001b[49m\u001b[43m \u001b[49m\u001b[38;5;241;43m*\u001b[39;49m\u001b[38;5;241;43m*\u001b[39;49m\u001b[43mreduce_kws\u001b[49m\u001b[43m)\u001b[49m\n\u001b[0;32m    179\u001b[0m \u001b[38;5;28mself\u001b[39m\u001b[38;5;241m.\u001b[39mind_ \u001b[38;5;241m=\u001b[39m np\u001b[38;5;241m.\u001b[39mabs(\u001b[38;5;28mself\u001b[39m\u001b[38;5;241m.\u001b[39mcoef_) \u001b[38;5;241m>\u001b[39m \u001b[38;5;241m1e-14\u001b[39m\n\u001b[0;32m    181\u001b[0m \u001b[38;5;66;03m# Rescale coefficients to original units\u001b[39;00m\n",
      "File \u001b[1;32m~\\AppData\\Local\\Packages\\PythonSoftwareFoundation.Python.3.12_qbz5n2kfra8p0\\LocalCache\\local-packages\\Python312\\site-packages\\pysindy\\optimizers\\sr3.py:384\u001b[0m, in \u001b[0;36mSR3._reduce\u001b[1;34m(self, x, y)\u001b[0m\n\u001b[0;32m    379\u001b[0m \u001b[38;5;28;01mif\u001b[39;00m \u001b[38;5;28mself\u001b[39m\u001b[38;5;241m.\u001b[39muse_trimming:\n\u001b[0;32m    380\u001b[0m     trimming_array \u001b[38;5;241m=\u001b[39m \u001b[38;5;28mself\u001b[39m\u001b[38;5;241m.\u001b[39m_update_trimming_array(\n\u001b[0;32m    381\u001b[0m         coef_full, trimming_array, trimming_grad\n\u001b[0;32m    382\u001b[0m     )\n\u001b[0;32m    383\u001b[0m objective_history\u001b[38;5;241m.\u001b[39mappend(\n\u001b[1;32m--> 384\u001b[0m     \u001b[38;5;28;43mself\u001b[39;49m\u001b[38;5;241;43m.\u001b[39;49m\u001b[43m_objective\u001b[49m\u001b[43m(\u001b[49m\u001b[43mx\u001b[49m\u001b[43m,\u001b[49m\u001b[43m \u001b[49m\u001b[43my\u001b[49m\u001b[43m,\u001b[49m\u001b[43m \u001b[49m\u001b[43mk\u001b[49m\u001b[43m,\u001b[49m\u001b[43m \u001b[49m\u001b[43mcoef_full\u001b[49m\u001b[43m,\u001b[49m\u001b[43m \u001b[49m\u001b[43mcoef_sparse\u001b[49m\u001b[43m,\u001b[49m\u001b[43m \u001b[49m\u001b[43mtrimming_array\u001b[49m\u001b[43m)\u001b[49m\n\u001b[0;32m    385\u001b[0m )\n\u001b[0;32m    386\u001b[0m \u001b[38;5;28;01mif\u001b[39;00m \u001b[38;5;28mself\u001b[39m\u001b[38;5;241m.\u001b[39m_convergence_criterion() \u001b[38;5;241m<\u001b[39m \u001b[38;5;28mself\u001b[39m\u001b[38;5;241m.\u001b[39mtol:\n\u001b[0;32m    387\u001b[0m     \u001b[38;5;66;03m# Could not (further) select important features\u001b[39;00m\n\u001b[0;32m    388\u001b[0m     \u001b[38;5;28;01mbreak\u001b[39;00m\n",
      "File \u001b[1;32m~\\AppData\\Local\\Packages\\PythonSoftwareFoundation.Python.3.12_qbz5n2kfra8p0\\LocalCache\\local-packages\\Python312\\site-packages\\pysindy\\optimizers\\sr3.py:248\u001b[0m, in \u001b[0;36mSR3._objective\u001b[1;34m(self, x, y, q, coef_full, coef_sparse, trimming_array)\u001b[0m\n\u001b[0;32m    246\u001b[0m \u001b[38;5;28;01melse\u001b[39;00m:\n\u001b[0;32m    247\u001b[0m     print_ind \u001b[38;5;241m=\u001b[39m q\n\u001b[1;32m--> 248\u001b[0m R2 \u001b[38;5;241m=\u001b[39m (y \u001b[38;5;241m-\u001b[39m \u001b[43mnp\u001b[49m\u001b[38;5;241;43m.\u001b[39;49m\u001b[43mdot\u001b[49m\u001b[43m(\u001b[49m\u001b[43mx\u001b[49m\u001b[43m,\u001b[49m\u001b[43m \u001b[49m\u001b[43mcoef_full\u001b[49m\u001b[43m)\u001b[49m) \u001b[38;5;241m*\u001b[39m\u001b[38;5;241m*\u001b[39m \u001b[38;5;241m2\u001b[39m\n\u001b[0;32m    249\u001b[0m D2 \u001b[38;5;241m=\u001b[39m (coef_full \u001b[38;5;241m-\u001b[39m coef_sparse) \u001b[38;5;241m*\u001b[39m\u001b[38;5;241m*\u001b[39m \u001b[38;5;241m2\u001b[39m\n\u001b[0;32m    250\u001b[0m \u001b[38;5;28;01mif\u001b[39;00m \u001b[38;5;28mself\u001b[39m\u001b[38;5;241m.\u001b[39muse_trimming:\n",
      "\u001b[1;31mKeyboardInterrupt\u001b[0m: "
     ]
    }
   ],
   "source": [
    "cv_folds = TimeSeriesSplit(n_splits=5)\n",
    "scores = []\n",
    "min_score = []\n",
    "max_score = []\n",
    "taus = np.linspace(0.1, 2, 20)\n",
    "for t_ in taus:\n",
    "    optimizer = ps.SR3(\n",
    "        threshold=t_,\n",
    "        max_iter=100000,\n",
    "        thresholder=\"l1\",\n",
    "        normalize_columns=True,\n",
    "    )\n",
    "    model_sindy = ps.SINDy(feature_library=pde_lib, optimizer=optimizer, feature_names=['u', 'v'])\n",
    "    cv_scores = []\n",
    "    for train_idx, test_idx in tqdm(cv_folds.split(t)):\n",
    "        model_sindy.fit(x=u[:, :, train_idx, :], t=t[train_idx], x_dot=u_dot[:, :, train_idx, :])\n",
    "        cv_scores.append(model_sindy.score(x=u[:, :, test_idx, :], t=t[test_idx]))\n",
    "    scores.append(np.mean(cv_scores))\n",
    "    min_score.append(np.min(cv_scores))\n",
    "    max_score.append(np.max(cv_scores))\n",
    "    print(f'Threshold: {t_},\\n Mean Score: {scores[-1]}')\n",
    "\n",
    "best_tau = taus[np.argmin(scores)]"
   ]
  },
  {
   "cell_type": "code",
   "execution_count": 20,
   "metadata": {},
   "outputs": [
    {
     "name": "stdout",
     "output_type": "stream",
     "text": [
      "(u)' = -14.702 u\n",
      "(v)' = 0.000\n"
     ]
    }
   ],
   "source": [
    "optimizer = ps.SR3(\n",
    "        threshold=50,\n",
    "        thresholder=\"l1\",\n",
    "        max_iter=100000,\n",
    "        normalize_columns=True,\n",
    "    )\n",
    "model_sindy = ps.SINDy(feature_library=pde_lib, optimizer=optimizer, feature_names=['u', 'v'])\n",
    "model_sindy.fit(u, x_dot=u_dot, t=t)\n",
    "model_sindy.print()"
   ]
  }
 ],
 "metadata": {
  "kernelspec": {
   "display_name": "Python 3",
   "language": "python",
   "name": "python3"
  },
  "language_info": {
   "codemirror_mode": {
    "name": "ipython",
    "version": 3
   },
   "file_extension": ".py",
   "mimetype": "text/x-python",
   "name": "python",
   "nbconvert_exporter": "python",
   "pygments_lexer": "ipython3",
   "version": "3.12.9"
  }
 },
 "nbformat": 4,
 "nbformat_minor": 2
}
