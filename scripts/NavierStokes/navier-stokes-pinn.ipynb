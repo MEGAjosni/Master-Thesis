{
 "cells": [
  {
   "cell_type": "markdown",
   "metadata": {},
   "source": [
    "# Navier-Stokes equation PINN"
   ]
  },
  {
   "cell_type": "code",
   "execution_count": null,
   "metadata": {},
   "outputs": [],
   "source": [
    "from kan import *"
   ]
  },
  {
   "cell_type": "code",
   "execution_count": null,
   "metadata": {},
   "outputs": [],
   "source": [
    "import torch\n",
    "import sys\n",
    "import matplotlib.pyplot as plt\n",
    "\n",
    "# Set the seed for reproducibility\n",
    "torch.manual_seed(42)\n",
    "\n",
    "# Add the parent directory of the script (i.e., project/) to sys.path\n",
    "sys.path.append('../../utils')\n",
    "from upinn import UPINN\n",
    "from architectures import FNN\n",
    "from utils import RAD_sampler, sample_collocation_points\n",
    "from BurgerData import BurgerData"
   ]
  },
  {
   "cell_type": "code",
   "execution_count": null,
   "metadata": {},
   "outputs": [],
   "source": [
    "class NavierStokes(torch.nn.Module):\n",
    "    def __init__(self, lam1, lam2):\n",
    "        super(NavierStokes, self).__init__()\n",
    "        self.lam1 = lam1\n",
    "        self.lam2 = lam2\n",
    "    \n",
    "    def forward(self, Z, U):\n",
    "        \n",
    "        # First order derivatives\n",
    "        dUdZ = torch.autograd.grad(U, Z, grad_outputs=torch.ones_like(U), create_graph=True)[0]\n",
    "\n",
    "        u_t = dUdZ[:, 0]\n",
    "        u_x = dUdZ[:, 1]\n",
    "        u_y = dUdZ[:, 2]\n",
    "\n",
    "        # Second order derivatives\n",
    "        d2UdZ2 = torch.autograd.grad(dUdZ, Z, grad_outputs=torch.ones_like(dUdZ), create_graph=True)[0]\n",
    "        u_tt = d2UdZ2[:, 0]\n",
    "        u_xx = d2UdZ2[:, 1]\n",
    "        u_yy = d2UdZ2[:, 2]\n",
    "\n",
    "\n",
    "\n",
    "    "
   ]
  }
 ],
 "metadata": {
  "language_info": {
   "name": "python"
  }
 },
 "nbformat": 4,
 "nbformat_minor": 2
}
