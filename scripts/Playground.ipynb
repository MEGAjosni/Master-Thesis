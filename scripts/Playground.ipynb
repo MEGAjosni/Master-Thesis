{
 "cells": [
  {
   "cell_type": "markdown",
   "metadata": {},
   "source": [
    "# Code Playground\n",
    "Should always be emptied before closing the notebook."
   ]
  },
  {
   "cell_type": "code",
   "execution_count": 1,
   "metadata": {},
   "outputs": [],
   "source": [
    "import sys\n",
    "sys.path.append('../data')\n",
    "import numpy as np\n",
    "import matplotlib.pyplot as plt\n",
    "import torch"
   ]
  },
  {
   "cell_type": "code",
   "execution_count": 16,
   "metadata": {},
   "outputs": [
    {
     "name": "stdout",
     "output_type": "stream",
     "text": [
      "Please run 'pip install torch torchvision' to install PyTorch\n"
     ]
    }
   ],
   "source": [
    "if 3:\n",
    "    print(\"Please run 'pip install torch torchvision' to install PyTorch\")"
   ]
  },
  {
   "cell_type": "code",
   "execution_count": null,
   "metadata": {},
   "outputs": [
    {
     "data": {
      "text/plain": [
       "{('F',\n",
       "  AdamW (\n",
       "  Parameter Group 0\n",
       "      amsgrad: False\n",
       "      betas: (0.9, 0.999)\n",
       "      capturable: False\n",
       "      differentiable: False\n",
       "      eps: 1e-08\n",
       "      foreach: None\n",
       "      fused: None\n",
       "      lr: 0.001\n",
       "      maximize: False\n",
       "      weight_decay: 0.01\n",
       "  )),\n",
       " ('u',\n",
       "  Adam (\n",
       "  Parameter Group 0\n",
       "      amsgrad: False\n",
       "      betas: (0.9, 0.999)\n",
       "      capturable: False\n",
       "      differentiable: False\n",
       "      eps: 1e-08\n",
       "      foreach: None\n",
       "      fused: None\n",
       "      lr: 0.001\n",
       "      maximize: False\n",
       "      weight_decay: 0\n",
       "  ))}"
      ]
     },
     "execution_count": 14,
     "metadata": {},
     "output_type": "execute_result"
    }
   ],
   "source": [
    "G = torch.nn.Sequential(\n",
    "    torch.nn.Linear(10, 20),  # Layer 1\n",
    "    torch.nn.ReLU(),\n",
    "    torch.nn.Linear(20, 1)    # Layer 2\n",
    ")\n",
    "\n",
    "F = torch.nn.Sequential(\n",
    "    torch.nn.Linear(10, 20),  # Layer 1\n",
    "    torch.nn.ReLU(),\n",
    "    torch.nn.Linear(20, 1)    # Layer 2\n",
    ")\n",
    "\n",
    "u = torch.nn.Sequential(\n",
    "    torch.nn.Linear(10, 20),  # Layer 1\n",
    "    torch.nn.ReLU(),\n",
    "    torch.nn.Linear(20, 1)    # Layer 2\n",
    ")\n",
    "\n",
    "optimizer_kwargs = dict(\n",
    "    u_optimizer_kwargs = dict(lr=1e-3),\n",
    "    F_optimizer_kwargs = dict(lr=1e-3),\n",
    "    G_optimizer_kwargs = dict(lr=1e-3),\n",
    ")\n",
    "\n",
    "optimizer = {'u': torch.optim.Adam, 'F': torch.optim.AdamW}\n",
    "optimizer_kwargs = {'u': {'lr': 1e-3}, 'F': {'lr': 1e-3}}\n",
    "\n",
    "optimizers = {(name, opt(eval(name).parameters(), **optimizer_kwargs[name])) for name, opt in optimizer.items()}\n"
   ]
  }
 ],
 "metadata": {
  "kernelspec": {
   "display_name": "Python 3",
   "language": "python",
   "name": "python3"
  },
  "language_info": {
   "codemirror_mode": {
    "name": "ipython",
    "version": 3
   },
   "file_extension": ".py",
   "mimetype": "text/x-python",
   "name": "python",
   "nbconvert_exporter": "python",
   "pygments_lexer": "ipython3",
   "version": "3.12.9"
  }
 },
 "nbformat": 4,
 "nbformat_minor": 2
}
