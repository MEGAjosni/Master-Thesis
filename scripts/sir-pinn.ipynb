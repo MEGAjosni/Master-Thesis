{
 "cells": [
  {
   "cell_type": "markdown",
   "metadata": {},
   "source": [
    "# Solving SIR model with PINN"
   ]
  },
  {
   "cell_type": "code",
   "execution_count": 1,
   "metadata": {},
   "outputs": [],
   "source": [
    "import torch\n",
    "import torch.nn as nn\n",
    "import torch.nn.init as init\n",
    "import torch.optim as optim\n",
    "import numpy as np\n",
    "from tqdm import tqdm"
   ]
  },
  {
   "cell_type": "markdown",
   "metadata": {},
   "source": [
    "## Define Neural Network"
   ]
  },
  {
   "cell_type": "code",
   "execution_count": 2,
   "metadata": {},
   "outputs": [],
   "source": [
    "class PINN(nn.Module):\n",
    "    def __init__(self, layers, beta=0.15, gamma=1/14):\n",
    "        super(PINN, self).__init__()\n",
    "        self.layers = nn.ModuleList()\n",
    "        \n",
    "        # Define the layers\n",
    "        for i in range(len(layers) - 1):\n",
    "            self.layers.append(nn.Linear(layers[i], layers[i+1]))\n",
    "            \n",
    "        self.activation = nn.ReLU()\n",
    "\n",
    "        self.beta = beta\n",
    "        self.gamma = gamma\n",
    "\n",
    "    def forward(self, x):\n",
    "        for i, layer in enumerate(self.layers):\n",
    "            x = self.activation(layer(x))\n",
    "        return x\n",
    "    \n",
    "    def u(self, t):\n",
    "        u = self.forward(t)\n",
    "        return u\n",
    "\n",
    "    def f(self, t):\n",
    "        u = self.u(t)\n",
    "        \n",
    "        # Compute first derivative u_t\n",
    "        u_t = torch.autograd.grad(u, t, grad_outputs=torch.ones_like(u), create_graph=True)[0]\n",
    "\n",
    "        # Define the PDE residual of SIR model u = [S, I, R]\n",
    "        S = u[:, 0:1]\n",
    "        I = u[:, 1:2]\n",
    "        R = u[:, 2:3]\n",
    "        f = torch.cat([\n",
    "            u_t[:, 0:1] - self.beta * S * I,\n",
    "            u_t[:, 1:2] + self.beta * S * I - self.gamma * I,\n",
    "            u_t[:, 2:3] - self.gamma * I\n",
    "        ], dim=1)\n",
    "        return f\n",
    "    \n",
    "    def n(self, t):\n",
    "        u = self.u(t)\n",
    "        S = u[:, 0:1]\n",
    "        I = u[:, 1:2]\n",
    "        R = u[:, 2:3]\n",
    "        return S + I + R - 1"
   ]
  },
  {
   "cell_type": "markdown",
   "metadata": {},
   "source": [
    "## Prepare Data"
   ]
  },
  {
   "cell_type": "code",
   "execution_count": 3,
   "metadata": {},
   "outputs": [],
   "source": [
    "def prepare_data():\n",
    "    N_f = 1000 # Number of collocation points for PDE\n",
    "\n",
    "    # Initial condition: u(0) = [1, 0.01, 0]\n",
    "    t_ic = torch.zeros(1, 1).requires_grad_(True)\n",
    "    u_ic = torch.tensor([[0.9, 0.1, 0]], dtype=torch.float32).requires_grad_(True)\n",
    "\n",
    "\n",
    "    # Collocation points for ODE\n",
    "    t_f = torch.linspace(0, 100, N_f).reshape(-1, 1).requires_grad_(True)\n",
    "\n",
    "    return dict(t_ic=t_ic, u_ic=u_ic, t_f=t_f) "
   ]
  },
  {
   "cell_type": "markdown",
   "metadata": {},
   "source": [
    "## Setup Training Loop"
   ]
  },
  {
   "cell_type": "code",
   "execution_count": 4,
   "metadata": {},
   "outputs": [],
   "source": [
    "def train_pinn(model, optimizer, epochs, data, use_gpu=True):\n",
    "    \n",
    "    # Check if GPU is available and use it if `use_gpu` is True\n",
    "    device = torch.device(\"cuda\" if use_gpu and torch.cuda.is_available() else \"cpu\")\n",
    "    if use_gpu and not torch.cuda.is_available():\n",
    "        print(\"GPU is not available, training on CPU instead.\")\n",
    "    else:\n",
    "        print(f\"Training on {str(device).upper()}\")\n",
    "    model.to(device)\n",
    "    \n",
    "    # Move all tensors to the selected device\n",
    "    t_ic = data[\"t_ic\"].to(device)\n",
    "    u_ic = data[\"u_ic\"].to(device)\n",
    "    t_f = data[\"t_f\"].to(device)\n",
    "    \n",
    "    # Initialize tqdm progress bar\n",
    "    progress_bar = tqdm(range(epochs), desc=\"Training\", unit=\"epoch\")\n",
    "    \n",
    "    for _ in progress_bar:\n",
    "        optimizer.zero_grad()\n",
    "        \n",
    "        # Initial condition loss\n",
    "        u_pred_ic = model.u(t_ic)\n",
    "        loss_ic = torch.mean((u_pred_ic - u_ic)**2)\n",
    "\n",
    "        # PDE residual loss\n",
    "        f_pred = model.f(t_f)\n",
    "        loss_pde = torch.mean(f_pred**2)\n",
    "\n",
    "        # Population loss\n",
    "        n_pred = model.n(t_f)\n",
    "        loss_pop = torch.mean(n_pred**2)\n",
    "\n",
    "        # Total loss\n",
    "        loss = loss_ic + loss_pde + loss_pop\n",
    "        loss.backward(retain_graph=True)\n",
    "        optimizer.step()\n",
    "\n",
    "        # Update the progress bar with current loss\n",
    "        progress_bar.set_postfix({\"Loss\": loss.item()})\n",
    "    \n",
    "    # Move the model back to the CPU\n",
    "    model.to(\"cpu\")\n"
   ]
  },
  {
   "cell_type": "code",
   "execution_count": 5,
   "metadata": {},
   "outputs": [
    {
     "name": "stdout",
     "output_type": "stream",
     "text": [
      "Training on CPU\n"
     ]
    },
    {
     "name": "stderr",
     "output_type": "stream",
     "text": [
      "Training: 100%|██████████| 5000/5000 [00:29<00:00, 171.29epoch/s, Loss=0.28] \n"
     ]
    }
   ],
   "source": [
    "# Set parameters\n",
    "layers = [1, 20, 20, 20, 3]  # Define layers (input layer + hidden layers + output layer)\n",
    "model = PINN(layers)\n",
    "optimizer = optim.Adam(model.parameters(), lr=1e-3)\n",
    "epochs = 5000\n",
    "\n",
    "# Prepare data\n",
    "data = prepare_data()\n",
    "\n",
    "# Train the model\n",
    "train_pinn(model, optimizer, epochs, data, use_gpu=False)"
   ]
  },
  {
   "cell_type": "markdown",
   "metadata": {},
   "source": [
    "## Evaluate Model"
   ]
  },
  {
   "cell_type": "code",
   "execution_count": 6,
   "metadata": {},
   "outputs": [],
   "source": [
    "# Save the model\n",
    "torch.save(model.state_dict(), \"sir.pth\")"
   ]
  },
  {
   "cell_type": "code",
   "execution_count": 7,
   "metadata": {},
   "outputs": [
    {
     "name": "stderr",
     "output_type": "stream",
     "text": [
      "C:\\Users\\jonas\\AppData\\Local\\Temp\\ipykernel_17752\\3101101976.py:3: FutureWarning: You are using `torch.load` with `weights_only=False` (the current default value), which uses the default pickle module implicitly. It is possible to construct malicious pickle data which will execute arbitrary code during unpickling (See https://github.com/pytorch/pytorch/blob/main/SECURITY.md#untrusted-models for more details). In a future release, the default value for `weights_only` will be flipped to `True`. This limits the functions that could be executed during unpickling. Arbitrary objects will no longer be allowed to be loaded via this mode unless they are explicitly allowlisted by the user via `torch.serialization.add_safe_globals`. We recommend you start setting `weights_only=True` for any use case where you don't have full control of the loaded file. Please open an issue on GitHub for any issues related to this experimental feature.\n",
      "  model.load_state_dict(torch.load(\"sir.pth\"))\n"
     ]
    },
    {
     "data": {
      "text/plain": [
       "<All keys matched successfully>"
      ]
     },
     "execution_count": 7,
     "metadata": {},
     "output_type": "execute_result"
    }
   ],
   "source": [
    "# Load the model\n",
    "model = PINN([1, 20, 20, 20, 3])\n",
    "model.load_state_dict(torch.load(\"sir.pth\"))"
   ]
  },
  {
   "cell_type": "code",
   "execution_count": 8,
   "metadata": {},
   "outputs": [
    {
     "data": {
      "image/png": "[encoded data removed]",
      "text/plain": [
       "<Figure size 640x480 with 1 Axes>"
      ]
     },
     "metadata": {},
     "output_type": "display_data"
    }
   ],
   "source": [
    "# Evaluate the model on a grid\n",
    "t = torch.linspace(0, 100, 1000).reshape(-1, 1)\n",
    "\n",
    "# Predict the solution\n",
    "u_pred = model.u(t)\n",
    "\n",
    "# Plot the solution\n",
    "import matplotlib.pyplot as plt\n",
    "plt.plot(t, u_pred[:, 0].detach().numpy(), label=\"S\")\n",
    "plt.plot(t, u_pred[:, 1].detach().numpy(), label=\"I\")\n",
    "plt.plot(t, u_pred[:, 2].detach().numpy(), label=\"R\")\n",
    "plt.xlabel(\"Time\")\n",
    "plt.ylabel(\"Population\")\n",
    "plt.legend()\n",
    "plt.show()\n",
    "\n"
   ]
  }
 ],
 "metadata": {
  "kernelspec": {
   "display_name": "Python 3",
   "language": "python",
   "name": "python3"
  },
  "language_info": {
   "codemirror_mode": {
    "name": "ipython",
    "version": 3
   },
   "file_extension": ".py",
   "mimetype": "text/x-python",
   "name": "python",
   "nbconvert_exporter": "python",
   "pygments_lexer": "ipython3",
   "version": "3.12.7"
  }
 },
 "nbformat": 4,
 "nbformat_minor": 2
}
