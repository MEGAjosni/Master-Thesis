{
 "cells": [
  {
   "cell_type": "markdown",
   "metadata": {},
   "source": [
    "# Lotka Volterra UPINN"
   ]
  },
  {
   "cell_type": "code",
   "execution_count": 1,
   "metadata": {},
   "outputs": [],
   "source": [
    "import torch\n",
    "import sys\n",
    "import numpy as np\n",
    "import matplotlib.pyplot as plt\n",
    "from sklearn.model_selection import GridSearchCV, TimeSeriesSplit\n",
    "import pysindy as ps\n",
    "from kan import KAN\n",
    "\n",
    "# Set the seed for reproducibility\n",
    "torch.manual_seed(42)\n",
    "\n",
    "# Add the parent directory of the script (i.e., project/) to sys.path\n",
    "sys.path.append('../../utils')\n",
    "from upinn import UPINN\n",
    "from architectures import FNN, ResNet\n",
    "from LotkaVolterraData import LotkaVolterraData\n",
    "from utils import SINDy_sklearn, sample_collocation_points"
   ]
  },
  {
   "cell_type": "markdown",
   "metadata": {},
   "source": [
    "Consider the Lotka-Volterra equations, which describe the dynamics of a predator-prey system:\n",
    "\n",
    "\\begin{align}\n",
    "\\frac{dx}{dt} &= \\alpha x - \\beta x y, \\\\\n",
    "\\frac{dy}{dt} &= - \\delta y + \\gamma x y,\n",
    "\\end{align}\n",
    "\n",
    "where $x$ is the number of prey, $y$ is the number of predators, and $\\alpha$, $\\beta$, $\\gamma$, and $\\delta$ are positive constants."
   ]
  },
  {
   "cell_type": "markdown",
   "metadata": {},
   "source": [
    "## Generate Data from System"
   ]
  },
  {
   "cell_type": "code",
   "execution_count": 2,
   "metadata": {},
   "outputs": [],
   "source": [
    "# Data\n",
    "alpha, beta, gamma, delta = 2/3, 4/3, 1.0, 1.0\n",
    "X0 = torch.tensor([1.0, 1.0]).reshape(-1, 2)\n",
    "\n",
    "Nd = 10 # Number of data points\n",
    "\n",
    "time_int = [0, 20]\n",
    "spacing = (time_int[1] - time_int[0]) / Nd\n",
    "\n",
    "data_time_points = np.linspace(time_int[0]+spacing, time_int[1], Nd)\n",
    "\n",
    "data = LotkaVolterraData(X0, alpha, beta, gamma, delta, time_int, time_points=data_time_points)\n",
    "\n",
    "td = data.td\n",
    "Xd = data.Xd"
   ]
  },
  {
   "cell_type": "code",
   "execution_count": 3,
   "metadata": {},
   "outputs": [],
   "source": [
    "# Boundary conditions\n",
    "tbc = torch.tensor([[0.0]])\n",
    "Xbc = X0"
   ]
  },
  {
   "cell_type": "code",
   "execution_count": 4,
   "metadata": {},
   "outputs": [],
   "source": [
    "# Collocation points\n",
    "N_coll = 1000\n",
    "tc = sample_collocation_points(N_coll, 1, lb=[time_int[0]], ub=[time_int[1]], method='grid')"
   ]
  },
  {
   "cell_type": "markdown",
   "metadata": {},
   "source": [
    "### Known system $N_K$\n",
    "\n",
    "Assume that $\\gamma x y$ is not known, and we want to learn it from data."
   ]
  },
  {
   "cell_type": "code",
   "execution_count": 5,
   "metadata": {},
   "outputs": [],
   "source": [
    "class SparseLV(torch.nn.Module):\n",
    "    \n",
    "    def __init__(self, params):\n",
    "        super(SparseLV, self).__init__()\n",
    "        self.alpha = params['alpha']\n",
    "        self.beta = params['beta']\n",
    "        self.delta = params['delta']\n",
    "        self.gamma = params['gamma']\n",
    "\n",
    "    def forward(self, z, U):\n",
    "\n",
    "        dUdt = torch.cat([\n",
    "        torch.autograd.grad(outputs=U[:, i], inputs=z, grad_outputs=torch.ones_like(U[:, i]), create_graph=True)[0]\n",
    "        for i in range(U.shape[1])\n",
    "        ], dim=-1)\n",
    "\n",
    "        return torch.stack([\n",
    "            dUdt[:, 0] - alpha*U[:, 0], # + beta*U[:, 0]*U[:, 1],\n",
    "            dUdt[:, 1] + delta*U[:, 1] # - gamma*U[:, 0]*U[:, 1] # <-- Estimate this\n",
    "        ], dim=-1)\n",
    "\n",
    "\n",
    "params = dict(\n",
    "    alpha=alpha,\n",
    "    beta=beta,\n",
    "    delta=delta,\n",
    "    gamma=gamma\n",
    ")\n",
    "\n",
    "N = SparseLV(params)"
   ]
  },
  {
   "cell_type": "markdown",
   "metadata": {},
   "source": [
    "### Problem specific UPINN functions"
   ]
  },
  {
   "cell_type": "code",
   "execution_count": 6,
   "metadata": {},
   "outputs": [],
   "source": [
    "class LV_UPINN(UPINN):\n",
    "\n",
    "    # def get_loss(self):\n",
    "    #     bc_loss = self.bc_loss()\n",
    "    #     data_loss = self.data_loss()\n",
    "    #     pde_loss = self.pde_loss()\n",
    "    #     lambdas = SoftAdapt(**self.softadapt_kwargs)(torch.tensor([bc_loss, data_loss, pde_loss]))\n",
    "    #     loss = lambdas[0]*bc_loss + lambdas[1]*data_loss + lambdas[2]*pde_loss\n",
    "\n",
    "    #     return loss, bc_loss, data_loss, pde_loss\n",
    "\n",
    "    def F_input(self, z, U):\n",
    "        return U\n",
    "\n",
    "    def score(self):\n",
    "        u_pred = self.u(data.t_full)\n",
    "\n",
    "        L2_rel_error = torch.sqrt(torch.mean((u_pred - data.X_full)**2) / torch.mean(data.X_full**2))\n",
    "        return L2_rel_error.item()\n",
    "\n",
    "        # return torch.nn.MSELoss()(u_pred, data.X_full)\n",
    "    \n",
    "    def score_residual(self):\n",
    "        u_pred = self.u(data.t_full)\n",
    "        F_pred = self.F(self.F_input(data.t_full, u_pred))\n",
    "               \n",
    "        F_exp_1 = beta*u_pred[:, 0]*u_pred[:, 1]\n",
    "        F_exp_2 = -gamma*u_pred[:, 0]*u_pred[:, 1]\n",
    "        F_exp = torch.stack([F_exp_1, F_exp_2], dim=-1)\n",
    "\n",
    "        L2_rel_error = torch.sqrt(torch.mean((F_pred - F_exp)**2) / torch.mean(F_exp**2))\n",
    "        return L2_rel_error.item()\n",
    "\n",
    "        \n",
    "\n",
    "    def plot(self, save=None):\n",
    "        \n",
    "        self.to('cpu')\n",
    "\n",
    "        with torch.no_grad():\n",
    "            t_plot = data.t_full\n",
    "            x_true = data.X_full[:, 0:1]\n",
    "            y_true = data.X_full[:, 1:2]\n",
    "\n",
    "            u_pred = self.u(self.collocation_points)\n",
    "            F_pred = self.F(self.F_input(t_plot, u_pred))\n",
    "\n",
    "            x_pred = u_pred[:, 0]\n",
    "            y_pred = u_pred[:, 1]\n",
    "\n",
    "            fig, ax = plt.subplots(2, 1, figsize=(8, 6))\n",
    "            plt.subplot(2, 1, 1)\n",
    "            plt.plot(td, Xd[:, 0], 'rx')\n",
    "            plt.plot(td, Xd[:, 1], 'bx')\n",
    "            plt.plot(t_plot, x_pred, 'r', label='Predator')\n",
    "            plt.plot(t_plot, y_pred, 'b', label='Prey')\n",
    "            plt.plot(t_plot, x_true, 'r--')\n",
    "            plt.plot(t_plot, y_true, 'b--')\n",
    "            plt.scatter(td, Xd[:, 0], color='r')\n",
    "            plt.scatter(td, Xd[:, 1], color='b')\n",
    "            plt.xlabel('t')\n",
    "            plt.legend()\n",
    "            \n",
    "            plt.subplot(2, 1, 2)\n",
    "            plt.plot(t_plot, F_pred[:, 0], 'r', label='Predator residual')\n",
    "            plt.plot(t_plot, F_pred[:, 1], 'b', label='Prey residual')\n",
    "            plt.plot(t_plot, beta*x_true*y_true, 'r--')\n",
    "            plt.plot(t_plot, -gamma*x_true*y_true, 'b--')\n",
    "            plt.xlabel('t')\n",
    "            plt.legend()\n",
    "\n",
    "            if save is not None:\n",
    "                plt.savefig('gfx/'+save+'.pdf', format='pdf', bbox_inches='tight')\n",
    "\n",
    "            plt.show()\n"
   ]
  },
  {
   "cell_type": "markdown",
   "metadata": {},
   "source": [
    "### Setup UPINN"
   ]
  },
  {
   "cell_type": "code",
   "execution_count": 7,
   "metadata": {},
   "outputs": [],
   "source": [
    "# Define model architectures\n",
    "hidden = [16] * 4\n",
    "u = FNN(\n",
    "    dims=[1, *hidden, 2],\n",
    "    hidden_act=torch.nn.Tanh(),\n",
    "    output_act=torch.nn.SiLU(),\n",
    ")\n",
    "F = FNN(\n",
    "    dims=[2, *hidden, 2],\n",
    "    hidden_act=torch.nn.Tanh(),\n",
    "    output_act=torch.nn.Identity(),\n",
    ")"
   ]
  },
  {
   "cell_type": "code",
   "execution_count": 8,
   "metadata": {},
   "outputs": [
    {
     "name": "stdout",
     "output_type": "stream",
     "text": [
      "[Info]: Initializing UPINN model\n"
     ]
    }
   ],
   "source": [
    "model = LV_UPINN(u, N, F, boundary_points=(tbc, Xbc), data_points=(td, Xd), collocation_points=tc)"
   ]
  },
  {
   "cell_type": "markdown",
   "metadata": {},
   "source": [
    "### Train"
   ]
  },
  {
   "cell_type": "code",
   "execution_count": 9,
   "metadata": {},
   "outputs": [],
   "source": [
    "adamw = torch.optim.AdamW(model.parameters(), lr=1e-3, weight_decay=1e-4)\n",
    "scheduler = torch.optim.lr_scheduler.ReduceLROnPlateau(adamw, factor=0.5, patience=200, threshold=1e-3)\n",
    "model.scheduler = scheduler\n",
    "model.optimizer = adamw"
   ]
  },
  {
   "cell_type": "code",
   "execution_count": null,
   "metadata": {},
   "outputs": [
    {
     "name": "stdout",
     "output_type": "stream",
     "text": [
      "[Info]: Training 30000 epoch(s) on cpu using AdamW optimizer.\n"
     ]
    },
    {
     "name": "stderr",
     "output_type": "stream",
     "text": [
      "[CPU]:   2%|▏         | 743/30000 [00:07<04:44, 102.87 epoch/s, bc_loss=2.43e-07, data_loss=1.02e-01, pde_loss=6.47e-04, loss=1.03e-01]"
     ]
    }
   ],
   "source": [
    "model.train_loop(30000, device='cpu')"
   ]
  },
  {
   "cell_type": "code",
   "execution_count": null,
   "metadata": {},
   "outputs": [
    {
     "name": "stdout",
     "output_type": "stream",
     "text": [
      "[Info]: Successfully saved total model with name lv_baseline at models\n"
     ]
    }
   ],
   "source": [
    "model.save('lv_baseline_long', 'models')"
   ]
  },
  {
   "cell_type": "code",
   "execution_count": 506,
   "metadata": {},
   "outputs": [],
   "source": [
    "model.load('lv_baseline', 'models')"
   ]
  },
  {
   "cell_type": "code",
   "execution_count": 531,
   "metadata": {},
   "outputs": [],
   "source": [
    "model.freeze_F()\n",
    "model.collocation_points = sample_collocation_points(N_coll, 1, lb=[time_int[0]], ub=[1.7*time_int[1]], method='grid').requires_grad_(True)"
   ]
  },
  {
   "cell_type": "code",
   "execution_count": 534,
   "metadata": {},
   "outputs": [
    {
     "name": "stdout",
     "output_type": "stream",
     "text": [
      "[Info]: Training 5000 epoch(s) on cuda using Adam optimizer.\n"
     ]
    },
    {
     "name": "stderr",
     "output_type": "stream",
     "text": [
      "[CUDA]: 100%|██████████| 5000/5000 [01:00<00:00, 82.74 epoch/s, bc_loss=8.91e-08, data_loss=5.22e-07, pde_loss=1.25e-05, loss=1.31e-05]\n"
     ]
    }
   ],
   "source": [
    "adam = torch.optim.Adam(model.parameters(), lr=1e-3)\n",
    "model.optimizer = adam\n",
    "model.train_loop(5000)"
   ]
  },
  {
   "cell_type": "code",
   "execution_count": 535,
   "metadata": {},
   "outputs": [
    {
     "data": {
      "image/png": "[encoded data removed]",
      "text/plain": [
       "<Figure size 640x480 with 1 Axes>"
      ]
     },
     "metadata": {},
     "output_type": "display_data"
    }
   ],
   "source": [
    "t = model.collocation_points\n",
    "u = model.u(t)\n",
    "\n",
    "plt.plot(t.detach().numpy(), u[:, 0].detach().numpy(), 'r')\n",
    "plt.plot(t.detach().numpy(), u[:, 1].detach().numpy(), 'b')\n",
    "plt.show()"
   ]
  },
  {
   "cell_type": "code",
   "execution_count": null,
   "metadata": {},
   "outputs": [],
   "source": []
  },
  {
   "cell_type": "code",
   "execution_count": 546,
   "metadata": {},
   "outputs": [
    {
     "name": "stdout",
     "output_type": "stream",
     "text": [
      "scalinglayer.scale Parameter containing:\n",
      "tensor([1.], requires_grad=True)\n",
      "scalinglayer.bias Parameter containing:\n",
      "tensor([0.], requires_grad=True)\n",
      "layers.0.scale Parameter containing:\n",
      "tensor([0.8614], requires_grad=True)\n",
      "layers.0.bias Parameter containing:\n",
      "tensor([-0.2819], requires_grad=True)\n",
      "layers.1.weight Parameter containing:\n",
      "tensor([[-0.2049],\n",
      "        [-0.2610],\n",
      "        [-0.5397],\n",
      "        [-1.3912],\n",
      "        [ 0.4820],\n",
      "        [-0.0947],\n",
      "        [-0.0766],\n",
      "        [-0.2902],\n",
      "        [ 0.0661],\n",
      "        [ 0.8689],\n",
      "        [ 0.4475],\n",
      "        [-0.0771],\n",
      "        [-0.2699],\n",
      "        [-0.0579],\n",
      "        [ 0.0824],\n",
      "        [ 0.5225]], requires_grad=True)\n",
      "layers.1.bias Parameter containing:\n",
      "tensor([ 0.3095, -0.1289,  0.1375, -0.1496, -0.1498,  0.1840,  0.1058, -0.1972,\n",
      "        -0.0199,  0.1500, -0.0986,  0.2420,  0.3329, -0.0071, -0.1071, -0.1552],\n",
      "       requires_grad=True)\n",
      "layers.3.weight Parameter containing:\n",
      "tensor([[ 0.3220, -0.2162, -0.6706,  0.0184,  0.5424,  0.5150,  0.6695, -0.0481,\n",
      "         -0.2980,  0.0114,  0.1806,  0.7373,  0.3388, -0.0497, -0.4285, -0.3133],\n",
      "        [ 0.2146, -0.2423,  0.2962, -0.2509, -0.1760,  0.0808,  0.0154, -0.3926,\n",
      "          0.6616, -0.0038, -0.0243,  0.3407,  0.2473, -0.3038,  0.1117,  0.0617],\n",
      "        [-0.7670, -0.2607,  0.1019, -0.0939, -0.0413, -0.0221,  0.4767, -0.5100,\n",
      "         -0.6176,  0.1771,  0.2143,  0.4569,  0.1826,  0.1087,  0.0179, -0.1913],\n",
      "        [-0.1071,  0.0320,  0.0334, -0.1572,  0.1830,  0.0759,  0.9037, -0.5177,\n",
      "         -0.6587,  0.0408,  0.2165,  0.8404, -0.1210, -0.0541,  0.1065,  0.0823],\n",
      "        [-0.0285, -0.0307, -0.1420, -0.1168,  0.3085, -0.3863, -0.3976,  0.1811,\n",
      "          0.0879, -0.2914, -0.2355,  0.2893, -0.1591,  0.1434,  0.4292, -0.2446],\n",
      "        [ 0.3539, -0.6248,  0.0379, -0.1351, -0.5428, -0.4113, -0.4098,  0.3388,\n",
      "          0.9411, -0.5382, -0.4462, -0.3073,  0.2721, -0.9202,  0.3982,  0.0279],\n",
      "        [-0.0924, -0.1606,  0.1073,  0.0643, -0.2146, -0.1571, -0.1261, -0.1906,\n",
      "          0.5666, -0.2036,  0.2720,  0.2125,  0.2996, -0.0118,  0.5063,  0.0950],\n",
      "        [ 0.0394, -0.0271,  0.0285, -0.1290,  0.4238,  0.2669,  0.1742, -0.3389,\n",
      "         -0.4659, -0.0454,  0.1270,  0.3973,  0.0024,  0.4366, -0.2646,  0.2817],\n",
      "        [-0.5102,  0.1169, -0.0257, -0.0697, -0.4060, -0.4358, -0.1772,  0.0078,\n",
      "          0.2473,  0.0024, -0.3345, -0.1171, -0.0453, -0.0568,  0.4089, -0.0584],\n",
      "        [ 0.3236, -0.3901,  0.0258, -0.0593,  0.3727, -0.3571, -0.3090, -0.1196,\n",
      "          0.0898,  0.2468,  0.1901,  0.2462, -0.0533, -0.0678,  0.1701,  0.1912],\n",
      "        [ 0.1256,  0.0982,  0.1380,  0.3639,  0.3005,  0.1500, -0.3471,  0.0050,\n",
      "          0.4389, -0.1554, -0.1845, -0.4910, -0.3838, -0.6185,  0.0989, -0.5141],\n",
      "        [ 0.2558,  0.5545, -0.1779,  0.1159,  0.0348,  0.1014, -0.0877,  0.4384,\n",
      "          0.2275,  0.0721, -0.1996, -0.2953,  0.0283, -0.0515,  0.1126, -0.0802],\n",
      "        [-0.1512,  0.3029,  0.1495,  0.2828,  0.2212,  0.2207, -0.1094,  0.2566,\n",
      "         -0.2505, -0.6080,  0.0127, -0.4696,  0.5244, -0.1551,  0.2536, -0.6122],\n",
      "        [-0.4431, -0.2940, -0.1548,  0.4720,  0.1033, -0.1952, -0.1668,  0.3464,\n",
      "          0.3258, -0.3954,  0.4347, -0.4711, -0.2680, -0.1882,  0.3539,  0.4506],\n",
      "        [ 0.1888,  0.1135, -0.5546,  0.0404,  0.4862, -0.4584, -0.6961,  0.3124,\n",
      "          0.2720,  0.0058,  0.3102, -0.2417, -0.1402,  0.7930,  0.2717, -0.0535],\n",
      "        [ 0.0398,  0.1467,  0.0721, -0.2674,  0.2669, -0.0196, -0.3670, -0.1747,\n",
      "          0.3425,  0.0450, -0.4007, -0.2897,  0.1931, -0.0793, -0.1327, -0.1849]],\n",
      "       requires_grad=True)\n",
      "layers.3.bias Parameter containing:\n",
      "tensor([ 0.0728,  0.1122,  0.1338,  0.0227, -0.0889, -0.0119,  0.0665, -0.0521,\n",
      "        -0.0276,  0.1243, -0.0818, -0.1487, -0.0373, -0.0661, -0.0593,  0.0964],\n",
      "       requires_grad=True)\n",
      "layers.5.weight Parameter containing:\n",
      "tensor([[ 0.4244,  0.2771,  1.1833,  1.1375, -0.2241, -0.9811,  0.1793,  0.2736,\n",
      "         -0.3967, -0.1531, -0.2761, -0.4169,  0.0890, -0.1401,  0.0119, -0.1292],\n",
      "        [-0.8570, -0.5021, -1.7168, -1.6137,  0.8567,  1.1293, -0.5835, -1.9941,\n",
      "          0.0307, -0.1978,  1.2206,  0.7567,  0.4766,  0.2509,  0.0561,  0.7435],\n",
      "        [-0.0161,  0.1146, -0.2113, -0.3256, -0.2356, -0.4421, -0.1269, -0.0321,\n",
      "          0.3165,  0.0956,  0.4533,  0.7793,  0.1029,  0.3620,  0.8146,  0.3438],\n",
      "        [ 0.4217,  0.3918, -0.1095, -0.0658, -0.0150,  0.4055,  0.1635, -0.4935,\n",
      "         -0.2013,  0.3985, -0.0472,  0.0895,  0.5446, -0.3682, -0.5525, -0.0358],\n",
      "        [ 1.1596,  0.0629,  0.0512,  0.4560, -0.2937, -0.2911, -0.5235,  0.2388,\n",
      "         -0.4206, -0.1142, -0.4867,  0.2121, -0.2788, -0.2116, -0.4312, -0.4217],\n",
      "        [-0.9750,  0.0249,  0.2610, -0.4201,  0.3409, -0.3313,  0.2167, -0.4592,\n",
      "         -0.1196,  0.2007,  0.1240, -0.2150,  0.0468,  0.3627, -0.0363, -0.0044],\n",
      "        [-0.1185, -0.0313, -0.2061,  0.2545,  0.1598,  0.0490,  0.3898,  0.3890,\n",
      "         -0.1651,  0.0708, -0.0880, -0.2041,  0.1699,  0.7874,  0.1060, -0.4152],\n",
      "        [ 0.0162,  0.4831,  0.2409, -0.0924, -0.1576, -0.1679,  0.4026, -0.4009,\n",
      "          0.1249, -0.1844,  0.0777, -0.2968, -0.3056, -0.2751,  0.1423,  0.4639],\n",
      "        [ 0.4112, -0.1550, -0.0470, -0.2474,  0.2329, -0.0777,  0.1562,  0.4517,\n",
      "         -0.1042, -0.2724, -0.0333,  0.6641, -0.2933, -0.0747,  0.2059,  0.1774],\n",
      "        [ 0.3124,  0.3672, -0.1599, -0.2793, -0.1769,  0.2996, -0.0279, -0.2640,\n",
      "         -0.3775,  0.4811, -0.0023, -0.1432, -0.3536, -0.1241, -0.1422,  0.3661],\n",
      "        [-0.8757, -0.0896,  0.1875,  0.1783,  0.0538,  0.2431,  0.2700, -0.2380,\n",
      "          0.0279,  0.0271,  0.2577,  0.0617, -0.2389,  0.0135,  0.2788, -0.0645],\n",
      "        [ 0.3728, -0.1931, -0.5998,  0.0922, -0.0787, -0.5082, -0.5538,  0.2091,\n",
      "         -0.1532,  0.2982,  0.2246,  0.8053, -0.0794, -0.4124,  0.1807,  0.4425],\n",
      "        [ 0.3445, -0.5769,  0.0030,  0.2325, -0.3172, -0.2348, -0.0481, -0.0803,\n",
      "         -0.2013, -0.0402, -0.0724, -0.0164,  0.0077,  0.1838,  0.3996, -0.4338],\n",
      "        [-0.5694,  0.3252, -0.6697, -0.6227, -0.0733,  0.5444,  0.4495, -1.0834,\n",
      "          0.0661, -0.3822,  0.6309,  0.5184,  0.1158, -0.3847, -0.0952,  0.0968],\n",
      "        [ 0.7954, -0.2268, -0.4411, -0.0612, -0.1567,  0.1175,  0.5126, -0.2968,\n",
      "          0.0416, -0.3969,  0.3344, -0.1732,  0.5860, -0.0339, -0.6036,  0.1109],\n",
      "        [-0.8882, -0.2880, -0.1419, -0.8340,  0.1188,  0.0409,  0.1979, -0.8507,\n",
      "          0.8777,  0.0157,  1.0816,  0.4490, -0.0326,  0.3270,  0.3032,  0.1004]],\n",
      "       requires_grad=True)\n",
      "layers.5.bias Parameter containing:\n",
      "tensor([ 0.0696, -0.3852, -0.0453, -0.1079, -0.1033,  0.0778, -0.0380,  0.1741,\n",
      "        -0.1432,  0.1570,  0.0892, -0.0440, -0.1741, -0.1019,  0.0223, -0.0499],\n",
      "       requires_grad=True)\n",
      "layers.7.weight Parameter containing:\n",
      "tensor([[-1.9719e-01, -2.0145e-01, -3.9789e-01,  2.2133e-01, -9.4075e-02,\n",
      "          9.7571e-02, -1.2541e-01,  3.2572e-01, -5.0935e-02, -1.9439e-01,\n",
      "         -1.9084e-01, -2.8607e-01, -4.1004e-01,  2.9490e-01, -1.6685e-01,\n",
      "          1.2859e-01],\n",
      "        [ 2.4900e-01, -6.8801e-01, -5.4824e-01,  2.2485e-01,  1.1314e+00,\n",
      "         -5.2226e-01,  1.7338e-01, -7.9598e-01,  3.4930e-02, -2.1148e-01,\n",
      "         -6.4022e-01, -2.5585e-01,  6.9353e-01, -6.1885e-01,  5.8775e-01,\n",
      "         -4.9849e-01],\n",
      "        [-4.7873e-01,  9.0475e-01,  6.9943e-02,  3.5669e-01, -4.8139e-01,\n",
      "          2.0593e-01, -3.6818e-01, -1.7833e-01,  3.0880e-01,  7.5873e-04,\n",
      "         -2.7100e-01,  2.8314e-01,  9.7009e-04,  4.8877e-01,  3.8565e-02,\n",
      "         -2.0103e-01],\n",
      "        [ 4.1197e-01, -6.7048e-01, -1.5590e-01,  3.4551e-01,  1.4678e-01,\n",
      "         -3.8044e-01, -2.9175e-01, -1.4852e-02, -1.3178e-01, -4.8343e-02,\n",
      "         -3.6117e-01, -9.3710e-02,  3.6781e-01, -4.2640e-01,  1.6735e-01,\n",
      "         -5.8749e-01],\n",
      "        [ 6.3619e-02,  8.9486e-02, -1.2155e-01, -1.3643e-01, -6.6736e-02,\n",
      "          1.9483e-01, -2.0529e-01,  6.1918e-01, -5.6575e-02,  5.5215e-01,\n",
      "          1.8661e-01,  7.2325e-02, -3.8628e-01, -5.5119e-02, -4.7974e-02,\n",
      "         -1.5457e-01],\n",
      "        [ 1.2791e-01,  2.7458e-01,  1.4590e-01, -1.1983e-01, -3.5744e-01,\n",
      "          9.2577e-02,  6.4485e-03,  3.5857e-01, -3.5683e-01, -8.0040e-02,\n",
      "         -4.0394e-02,  3.6243e-02, -2.6565e-01,  9.4315e-02, -7.0613e-02,\n",
      "          2.2002e-01],\n",
      "        [-5.1621e-01,  2.8559e-01,  2.0178e-01,  2.3320e-03,  9.3021e-02,\n",
      "         -6.1445e-01,  5.9685e-02, -6.8817e-01,  2.2961e-01, -5.7147e-01,\n",
      "         -3.6247e-01,  2.2207e-01,  1.6358e-01,  2.5968e-01, -7.9594e-02,\n",
      "         -2.2517e-01],\n",
      "        [ 4.0830e-01,  5.5129e-01,  3.7855e-01, -1.3745e-01, -6.0675e-01,\n",
      "          3.8823e-01, -1.7274e-01,  2.2579e-02, -4.8801e-01, -5.0495e-01,\n",
      "          6.0916e-01, -4.9486e-02, -5.9564e-01,  5.3586e-01, -3.0412e-01,\n",
      "          9.5333e-01],\n",
      "        [ 2.9568e-02, -2.3676e-01,  1.1008e-01,  4.3008e-02, -1.9311e-01,\n",
      "         -9.8449e-01, -2.8605e-01, -1.2288e-01,  1.8022e-01, -1.6591e-01,\n",
      "          1.6568e-01,  8.0823e-01,  3.4842e-01, -5.0411e-02, -2.8915e-01,\n",
      "         -4.1743e-01],\n",
      "        [ 6.3866e-01, -1.8251e-01, -3.4652e-01, -2.0899e-01, -1.9974e-01,\n",
      "         -4.0965e-02, -3.5054e-01, -3.9462e-01, -2.6622e-01,  2.1008e-01,\n",
      "         -2.9990e-02,  1.3243e-01,  4.6696e-02, -2.5321e-01,  1.2971e-04,\n",
      "         -1.6735e-03],\n",
      "        [-4.1938e-01, -3.4366e-01, -1.5311e-01,  2.7396e-02,  6.2678e-01,\n",
      "         -5.3884e-01, -4.2485e-01,  8.6387e-02,  2.7696e-01,  1.9347e-01,\n",
      "          7.9521e-03,  4.8697e-01,  7.7443e-02, -3.4574e-01,  1.3671e-01,\n",
      "         -4.8755e-01],\n",
      "        [-2.4996e-01,  2.2821e-01,  9.8408e-02, -1.0201e-01,  1.0087e-01,\n",
      "          4.2453e-01,  3.2017e-01,  1.3711e-01, -1.1986e-01,  4.9179e-01,\n",
      "          3.2354e-01,  4.9170e-01,  3.9892e-01, -1.1533e-01, -1.2010e-01,\n",
      "         -1.6998e-01],\n",
      "        [-1.0036e-01, -1.2096e-01, -3.5092e-02,  2.6097e-01,  2.1327e-01,\n",
      "          1.3670e-01, -3.7669e-01, -6.3178e-01, -5.2965e-02, -4.7184e-01,\n",
      "          2.9476e-01,  5.0526e-01, -1.9166e-01,  1.3495e-01,  4.5737e-01,\n",
      "          1.5595e-01],\n",
      "        [-3.3691e-01,  4.3264e-01,  5.3862e-02,  2.7682e-02,  3.0364e-01,\n",
      "          3.3849e-02, -4.6728e-01,  6.0388e-03, -7.4616e-01,  3.0757e-01,\n",
      "         -1.0336e-01, -3.0883e-01, -6.0580e-01,  7.3589e-01,  3.9009e-01,\n",
      "         -2.7993e-01],\n",
      "        [ 1.9989e-02, -1.0945e-01,  1.3149e-01, -8.4081e-03,  4.1475e-01,\n",
      "          3.5388e-01, -2.5677e-01,  5.3479e-01,  9.7409e-02,  1.6629e-01,\n",
      "          8.1277e-02,  1.1108e-01, -2.9146e-01,  3.8551e-01, -3.1697e-01,\n",
      "          9.9852e-02],\n",
      "        [ 7.9540e-02, -4.2052e-01, -2.7237e-01, -2.3823e-01,  2.9680e-01,\n",
      "          2.3459e-03,  6.5140e-01, -1.7612e-01, -3.5620e-01,  9.3245e-02,\n",
      "          3.8930e-02, -4.2091e-03, -2.5082e-01, -3.9689e-01,  1.3665e-01,\n",
      "          3.2071e-03]], requires_grad=True)\n",
      "layers.7.bias Parameter containing:\n",
      "tensor([ 0.0942, -0.1419, -0.1027, -0.0295,  0.1886, -0.0700, -0.2696,  0.0812,\n",
      "         0.0404, -0.0414, -0.1092,  0.1764, -0.2182,  0.1522,  0.1858, -0.0286],\n",
      "       requires_grad=True)\n",
      "layers.9.weight Parameter containing:\n",
      "tensor([[-0.0614,  0.6167, -0.3352,  0.1336,  0.3821, -0.1417, -0.2414, -0.5484,\n",
      "         -0.4136, -1.1657, -0.8402,  0.4781, -0.5147,  0.7020,  0.6039, -0.0993],\n",
      "        [ 0.2425, -0.5848,  0.4349,  0.6647,  0.2810, -0.0913, -0.4540, -0.3327,\n",
      "          0.5467,  0.5114, -0.7032,  0.2061, -0.2571,  0.6518,  0.3362, -0.3832]],\n",
      "       requires_grad=True)\n",
      "layers.9.bias Parameter containing:\n",
      "tensor([0.2342, 0.1539], requires_grad=True)\n"
     ]
    }
   ],
   "source": [
    "# Inspect parameters of F\n",
    "for name, param in model.u.named_parameters():\n",
    "    print(name, param)"
   ]
  },
  {
   "cell_type": "code",
   "execution_count": 536,
   "metadata": {},
   "outputs": [
    {
     "data": {
      "image/png": "[encoded data removed]",
      "text/plain": [
       "<Figure size 800x600 with 2 Axes>"
      ]
     },
     "metadata": {},
     "output_type": "display_data"
    }
   ],
   "source": [
    "model.plot()"
   ]
  },
  {
   "cell_type": "code",
   "execution_count": null,
   "metadata": {},
   "outputs": [],
   "source": []
  },
  {
   "cell_type": "code",
   "execution_count": 234,
   "metadata": {},
   "outputs": [],
   "source": [
    "# upinn.load('lv_upinn_baseline_10_datapoints', 'models')"
   ]
  },
  {
   "cell_type": "code",
   "execution_count": 235,
   "metadata": {},
   "outputs": [],
   "source": [
    "from sklearn.metrics import mean_squared_error, mean_poisson_deviance"
   ]
  },
  {
   "cell_type": "code",
   "execution_count": 243,
   "metadata": {},
   "outputs": [],
   "source": [
    "# Generate data from the solution network\n",
    "t = data.t_full\n",
    "X = upinn.u(t)\n",
    "X_dot = upinn.F(upinn.F_input(None, X))\n",
    "t = t.detach().numpy()\n",
    "X = X.detach().numpy()\n",
    "X_dot = X_dot.detach().numpy()"
   ]
  },
  {
   "cell_type": "code",
   "execution_count": 249,
   "metadata": {},
   "outputs": [
    {
     "data": {
      "text/plain": [
       "(1000, 1)"
      ]
     },
     "execution_count": 249,
     "metadata": {},
     "output_type": "execute_result"
    }
   ],
   "source": [
    "t.shape"
   ]
  },
  {
   "cell_type": "code",
   "execution_count": 266,
   "metadata": {},
   "outputs": [
    {
     "name": "stdout",
     "output_type": "stream",
     "text": [
      "(x)' = 1.334 x y\n",
      "(y)' = -1.000 x y\n"
     ]
    }
   ],
   "source": [
    "# Hyperparameter tuning using Crossvalidation with TimeSeriesSplit\n",
    "model = SINDy_sklearn(feature_names=['x', 'y'], feature_library=ps.PolynomialLibrary(degree=2), optimizer=ps.SR3(thresholder=\"L1\", max_iter=10000, normalize_columns=True))\n",
    "paramgrid = dict(optimizer__threshold=np.linspace(0.01, 10.0, 100))\n",
    "\n",
    "cv_folds = TimeSeriesSplit(n_splits=10)\n",
    "model_selector = GridSearchCV(model, param_grid=paramgrid, cv=cv_folds, n_jobs=-1)\n",
    "wrapped_input = np.concatenate([t, X], axis=1)\n",
    "model_selector.fit(wrapped_input, X_dot)\n",
    "best_model = model_selector.best_estimator_\n",
    "\n",
    "best_model.print()"
   ]
  }
 ],
 "metadata": {
  "kernelspec": {
   "display_name": "Python 3",
   "language": "python",
   "name": "python3"
  },
  "language_info": {
   "codemirror_mode": {
    "name": "ipython",
    "version": 3
   },
   "file_extension": ".py",
   "mimetype": "text/x-python",
   "name": "python",
   "nbconvert_exporter": "python",
   "pygments_lexer": "ipython3",
   "version": "3.12.9"
  }
 },
 "nbformat": 4,
 "nbformat_minor": 2
}
