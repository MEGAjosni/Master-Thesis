{
 "cells": [
  {
   "cell_type": "code",
   "execution_count": 1,
   "metadata": {},
   "outputs": [],
   "source": [
    "import numpy as np\n",
    "import matplotlib.pyplot as plt"
   ]
  },
  {
   "cell_type": "code",
   "execution_count": 6,
   "metadata": {},
   "outputs": [],
   "source": [
    "\n",
    "# for noise_level, noise_level_str in zip([0.0, 0.001, 0.01, 0.1], ['0000', '0001', '0010', '0100']):\n",
    "#     for Ndata in [5, 10, 20, 40]:\n",
    "#         name = 'lv_baseline_data'+str(Ndata)+'_noise'+noise_level_str+'_shared_res'\n",
    "#         print(Ndata, noise_level)\n",
    "#         print(np.load('scores/'+name+'_score.npy'))"
   ]
  },
  {
   "cell_type": "code",
   "execution_count": null,
   "metadata": {},
   "outputs": [],
   "source": [
    "name = 'lv_baseline_data'+str(Ndata)+'_noise'+noise_level_str+'_shared_res'\n",
    "print(Ndata, noise_level)\n",
    "print(np.load('scores/'+name+'_score.npy'))"
   ]
  }
 ],
 "metadata": {
  "kernelspec": {
   "display_name": "Python 3",
   "language": "python",
   "name": "python3"
  },
  "language_info": {
   "codemirror_mode": {
    "name": "ipython",
    "version": 3
   },
   "file_extension": ".py",
   "mimetype": "text/x-python",
   "name": "python",
   "nbconvert_exporter": "python",
   "pygments_lexer": "ipython3",
   "version": "3.12.9"
  }
 },
 "nbformat": 4,
 "nbformat_minor": 2
}
